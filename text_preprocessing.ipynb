{
 "cells": [
  {
   "cell_type": "code",
   "execution_count": 1,
   "metadata": {
    "ExecuteTime": {
     "end_time": "2020-10-01T02:24:17.128738Z",
     "start_time": "2020-10-01T02:24:09.186473Z"
    }
   },
   "outputs": [],
   "source": [
    "import tensorflow as tf\n",
    "import pandas as pd"
   ]
  },
  {
   "cell_type": "code",
   "execution_count": 2,
   "metadata": {
    "ExecuteTime": {
     "end_time": "2020-10-01T02:24:17.150356Z",
     "start_time": "2020-10-01T02:24:17.132651Z"
    }
   },
   "outputs": [
    {
     "name": "stdout",
     "output_type": "stream",
     "text": [
      "2.3.0\n"
     ]
    }
   ],
   "source": [
    "print(tf.__version__)"
   ]
  },
  {
   "cell_type": "markdown",
   "metadata": {},
   "source": [
    "### Keras Tokenizer"
   ]
  },
  {
   "cell_type": "code",
   "execution_count": 3,
   "metadata": {
    "ExecuteTime": {
     "end_time": "2020-10-01T02:24:17.269212Z",
     "start_time": "2020-10-01T02:24:17.155473Z"
    }
   },
   "outputs": [],
   "source": [
    "from tensorflow.keras.preprocessing.text import Tokenizer\n"
   ]
  },
  {
   "cell_type": "code",
   "execution_count": 4,
   "metadata": {
    "ExecuteTime": {
     "end_time": "2020-10-01T02:24:17.422407Z",
     "start_time": "2020-10-01T02:24:17.274023Z"
    }
   },
   "outputs": [],
   "source": [
    "tok=Tokenizer()\n",
    "text=[\"How is your week going its going  good good good\"]\n",
    "tok.fit_on_texts(text)"
   ]
  },
  {
   "cell_type": "code",
   "execution_count": 5,
   "metadata": {
    "ExecuteTime": {
     "end_time": "2020-10-01T02:24:17.566273Z",
     "start_time": "2020-10-01T02:24:17.430397Z"
    }
   },
   "outputs": [
    {
     "data": {
      "text/plain": [
       "{'good': 1, 'going': 2, 'how': 3, 'is': 4, 'your': 5, 'week': 6, 'its': 7}"
      ]
     },
     "execution_count": 5,
     "metadata": {},
     "output_type": "execute_result"
    }
   ],
   "source": [
    "tok.word_index"
   ]
  },
  {
   "cell_type": "code",
   "execution_count": 6,
   "metadata": {
    "ExecuteTime": {
     "end_time": "2020-10-01T02:24:17.651899Z",
     "start_time": "2020-10-01T02:24:17.572857Z"
    }
   },
   "outputs": [],
   "source": [
    "sequences = tok.texts_to_sequences(text)"
   ]
  },
  {
   "cell_type": "code",
   "execution_count": 7,
   "metadata": {
    "ExecuteTime": {
     "end_time": "2020-10-01T02:24:17.765145Z",
     "start_time": "2020-10-01T02:24:17.659875Z"
    }
   },
   "outputs": [
    {
     "data": {
      "text/plain": [
       "[[3, 4, 5, 6, 2, 7, 2, 1, 1, 1]]"
      ]
     },
     "execution_count": 7,
     "metadata": {},
     "output_type": "execute_result"
    }
   ],
   "source": [
    "sequences"
   ]
  },
  {
   "cell_type": "code",
   "execution_count": 8,
   "metadata": {
    "ExecuteTime": {
     "end_time": "2020-10-01T02:24:17.886257Z",
     "start_time": "2020-10-01T02:24:17.778697Z"
    }
   },
   "outputs": [],
   "source": [
    "test_text=\"My week just started\"\n",
    "test_sequences=tok.texts_to_sequences([test_text])"
   ]
  },
  {
   "cell_type": "code",
   "execution_count": 9,
   "metadata": {
    "ExecuteTime": {
     "end_time": "2020-10-01T02:24:18.001017Z",
     "start_time": "2020-10-01T02:24:17.898423Z"
    }
   },
   "outputs": [
    {
     "data": {
      "text/plain": [
       "[6]"
      ]
     },
     "execution_count": 9,
     "metadata": {},
     "output_type": "execute_result"
    }
   ],
   "source": [
    "test_sequences[0]"
   ]
  },
  {
   "cell_type": "code",
   "execution_count": 10,
   "metadata": {
    "ExecuteTime": {
     "end_time": "2020-10-01T02:24:18.751380Z",
     "start_time": "2020-10-01T02:24:18.010603Z"
    }
   },
   "outputs": [
    {
     "data": {
      "text/html": [
       "<div>\n",
       "<style scoped>\n",
       "    .dataframe tbody tr th:only-of-type {\n",
       "        vertical-align: middle;\n",
       "    }\n",
       "\n",
       "    .dataframe tbody tr th {\n",
       "        vertical-align: top;\n",
       "    }\n",
       "\n",
       "    .dataframe thead th {\n",
       "        text-align: right;\n",
       "    }\n",
       "</style>\n",
       "<table border=\"1\" class=\"dataframe\">\n",
       "  <thead>\n",
       "    <tr style=\"text-align: right;\">\n",
       "      <th></th>\n",
       "      <th>raw_text</th>\n",
       "      <th>train_sequence</th>\n",
       "    </tr>\n",
       "  </thead>\n",
       "  <tbody>\n",
       "    <tr>\n",
       "      <th>0</th>\n",
       "      <td>how is your week going</td>\n",
       "      <td>[3, 4, 5, 6, 2]</td>\n",
       "    </tr>\n",
       "    <tr>\n",
       "      <th>1</th>\n",
       "      <td>my week just started</td>\n",
       "      <td>[6]</td>\n",
       "    </tr>\n",
       "    <tr>\n",
       "      <th>2</th>\n",
       "      <td>hope it goes good</td>\n",
       "      <td>[1]</td>\n",
       "    </tr>\n",
       "    <tr>\n",
       "      <th>3</th>\n",
       "      <td>friday is holiday</td>\n",
       "      <td>[4]</td>\n",
       "    </tr>\n",
       "  </tbody>\n",
       "</table>\n",
       "</div>"
      ],
      "text/plain": [
       "                 raw_text   train_sequence\n",
       "0  how is your week going  [3, 4, 5, 6, 2]\n",
       "1    my week just started              [6]\n",
       "2       hope it goes good              [1]\n",
       "3       friday is holiday              [4]"
      ]
     },
     "execution_count": 10,
     "metadata": {},
     "output_type": "execute_result"
    }
   ],
   "source": [
    "# store in dataframe\n",
    "raw_text=[\"how is your week going\",\"my week just started\",\"hope it goes good\",\"friday is holiday\"]\n",
    "df_example = pd.DataFrame({'raw_text': raw_text})\n",
    "df_example.head()\n",
    "# updata df_text\n",
    "df_example['train_sequence'] = df_example.raw_text.apply(lambda x: tok.texts_to_sequences([x])[0])\n",
    "df_example.head()"
   ]
  },
  {
   "cell_type": "code",
   "execution_count": 11,
   "metadata": {
    "ExecuteTime": {
     "end_time": "2020-10-01T02:24:18.780465Z",
     "start_time": "2020-10-01T02:24:18.758950Z"
    }
   },
   "outputs": [
    {
     "name": "stdout",
     "output_type": "stream",
     "text": [
      "{'UNK': 1, 'how': 2, 'is': 3, 'your': 4, 'week': 5, 'going': 6}\n"
     ]
    }
   ],
   "source": [
    "#OOV TOKEN -out of vocabulary token shows what words we didnt have in our dictionary\n",
    "tok_with_oov=Tokenizer(oov_token=\"UNK\")\n",
    "text=[\"How is your week going\"]\n",
    "tok_with_oov.fit_on_texts(text)\n",
    "sequences_with_oov = tok_with_oov.texts_to_sequences(text)\n",
    "print(tok_with_oov.word_index)"
   ]
  },
  {
   "cell_type": "code",
   "execution_count": 12,
   "metadata": {
    "ExecuteTime": {
     "end_time": "2020-10-01T02:24:18.930301Z",
     "start_time": "2020-10-01T02:24:18.785295Z"
    }
   },
   "outputs": [],
   "source": [
    "test_sequences_with_oov=tok_with_oov.texts_to_sequences([\"hope it goes good\"])"
   ]
  },
  {
   "cell_type": "code",
   "execution_count": 13,
   "metadata": {
    "ExecuteTime": {
     "end_time": "2020-10-01T02:24:19.103618Z",
     "start_time": "2020-10-01T02:24:18.936287Z"
    }
   },
   "outputs": [
    {
     "data": {
      "text/plain": [
       "[[2, 3, 4, 5, 6]]"
      ]
     },
     "execution_count": 13,
     "metadata": {},
     "output_type": "execute_result"
    }
   ],
   "source": [
    "sequences_with_oov # fitting on the train"
   ]
  },
  {
   "cell_type": "code",
   "execution_count": 14,
   "metadata": {
    "ExecuteTime": {
     "end_time": "2020-10-01T02:24:19.283262Z",
     "start_time": "2020-10-01T02:24:19.112562Z"
    }
   },
   "outputs": [
    {
     "data": {
      "text/plain": [
       "[[1, 1, 1, 1]]"
      ]
     },
     "execution_count": 14,
     "metadata": {},
     "output_type": "execute_result"
    }
   ],
   "source": [
    "test_sequences_with_oov"
   ]
  },
  {
   "cell_type": "code",
   "execution_count": 15,
   "metadata": {
    "ExecuteTime": {
     "end_time": "2020-10-01T02:24:19.497790Z",
     "start_time": "2020-10-01T02:24:19.292074Z"
    }
   },
   "outputs": [
    {
     "data": {
      "text/html": [
       "<div>\n",
       "<style scoped>\n",
       "    .dataframe tbody tr th:only-of-type {\n",
       "        vertical-align: middle;\n",
       "    }\n",
       "\n",
       "    .dataframe tbody tr th {\n",
       "        vertical-align: top;\n",
       "    }\n",
       "\n",
       "    .dataframe thead th {\n",
       "        text-align: right;\n",
       "    }\n",
       "</style>\n",
       "<table border=\"1\" class=\"dataframe\">\n",
       "  <thead>\n",
       "    <tr style=\"text-align: right;\">\n",
       "      <th></th>\n",
       "      <th>raw_text</th>\n",
       "      <th>sequence</th>\n",
       "    </tr>\n",
       "  </thead>\n",
       "  <tbody>\n",
       "    <tr>\n",
       "      <th>0</th>\n",
       "      <td>how is your week going</td>\n",
       "      <td>[2, 3, 4, 5, 6]</td>\n",
       "    </tr>\n",
       "    <tr>\n",
       "      <th>1</th>\n",
       "      <td>my week just started</td>\n",
       "      <td>[1, 5, 1, 1]</td>\n",
       "    </tr>\n",
       "    <tr>\n",
       "      <th>2</th>\n",
       "      <td>hope it goes good</td>\n",
       "      <td>[1, 1, 1, 1]</td>\n",
       "    </tr>\n",
       "    <tr>\n",
       "      <th>3</th>\n",
       "      <td>friday is holiday</td>\n",
       "      <td>[1, 3, 1]</td>\n",
       "    </tr>\n",
       "  </tbody>\n",
       "</table>\n",
       "</div>"
      ],
      "text/plain": [
       "                 raw_text         sequence\n",
       "0  how is your week going  [2, 3, 4, 5, 6]\n",
       "1    my week just started     [1, 5, 1, 1]\n",
       "2       hope it goes good     [1, 1, 1, 1]\n",
       "3       friday is holiday        [1, 3, 1]"
      ]
     },
     "execution_count": 15,
     "metadata": {},
     "output_type": "execute_result"
    }
   ],
   "source": [
    "raw_text=[\"how is your week going\",\"my week just started\",\"hope it goes good\",\"friday is holiday\"]\n",
    "df_example_with_oov = pd.DataFrame({'raw_text': raw_text})\n",
    "df_example_with_oov.head()\n",
    "# updata df_text\n",
    "df_example_with_oov['sequence'] = df_example_with_oov.raw_text.apply(lambda x: tok_with_oov.texts_to_sequences([x])[0])\n",
    "df_example_with_oov.head()"
   ]
  },
  {
   "cell_type": "markdown",
   "metadata": {},
   "source": [
    "# Padding"
   ]
  },
  {
   "cell_type": "code",
   "execution_count": 16,
   "metadata": {
    "ExecuteTime": {
     "end_time": "2020-10-01T02:24:19.617018Z",
     "start_time": "2020-10-01T02:24:19.504880Z"
    }
   },
   "outputs": [],
   "source": [
    "# to make all sequences to be of same length "
   ]
  },
  {
   "cell_type": "code",
   "execution_count": 17,
   "metadata": {
    "ExecuteTime": {
     "end_time": "2020-10-01T02:24:19.785855Z",
     "start_time": "2020-10-01T02:24:19.621336Z"
    }
   },
   "outputs": [],
   "source": [
    "from tensorflow.keras.preprocessing.sequence import pad_sequences"
   ]
  },
  {
   "cell_type": "markdown",
   "metadata": {},
   "source": [
    "### pre_padding"
   ]
  },
  {
   "cell_type": "code",
   "execution_count": 18,
   "metadata": {
    "ExecuteTime": {
     "end_time": "2020-10-01T02:24:19.946274Z",
     "start_time": "2020-10-01T02:24:19.794692Z"
    }
   },
   "outputs": [],
   "source": [
    "tok=Tokenizer()\n",
    "text=[\"How is your week going\"] # 5 WORDS\n",
    "tok.fit_on_texts(text)\n",
    "sequences = tok.texts_to_sequences(text)\n",
    "max_length= 10 # length of the sequence # 10 WORDS\n",
    "pre_padding = pad_sequences(sequences, maxlen=max_length, \n",
    "                                padding='pre',\n",
    "                                truncating='pre',)  # ADD VALUES TO FRONT OF THE SEQUENCE"
   ]
  },
  {
   "cell_type": "code",
   "execution_count": 19,
   "metadata": {
    "ExecuteTime": {
     "end_time": "2020-10-01T02:24:20.094319Z",
     "start_time": "2020-10-01T02:24:19.956163Z"
    }
   },
   "outputs": [
    {
     "data": {
      "text/plain": [
       "array([[0, 0, 0, 0, 0, 1, 2, 3, 4, 5]])"
      ]
     },
     "execution_count": 19,
     "metadata": {},
     "output_type": "execute_result"
    }
   ],
   "source": [
    "pre_padding"
   ]
  },
  {
   "cell_type": "markdown",
   "metadata": {},
   "source": [
    "## post_padding"
   ]
  },
  {
   "cell_type": "code",
   "execution_count": 20,
   "metadata": {
    "ExecuteTime": {
     "end_time": "2020-10-01T02:24:20.355983Z",
     "start_time": "2020-10-01T02:24:20.105595Z"
    }
   },
   "outputs": [],
   "source": [
    "tok=Tokenizer()\n",
    "text=[\"How is your week going\"]\n",
    "tok.fit_on_texts(text)\n",
    "sequences = tok.texts_to_sequences(text)\n",
    "max_length=10000# length of the sequence\n",
    "post_padding = pad_sequences(sequences, maxlen=max_length, \n",
    "                                padding='post',\n",
    "                                truncating='post',value=999)"
   ]
  },
  {
   "cell_type": "code",
   "execution_count": 21,
   "metadata": {
    "ExecuteTime": {
     "end_time": "2020-10-01T02:24:20.537633Z",
     "start_time": "2020-10-01T02:24:20.366001Z"
    }
   },
   "outputs": [
    {
     "data": {
      "text/plain": [
       "array([[  1,   2,   3, ..., 999, 999, 999]])"
      ]
     },
     "execution_count": 21,
     "metadata": {},
     "output_type": "execute_result"
    }
   ],
   "source": [
    "post_padding"
   ]
  },
  {
   "cell_type": "code",
   "execution_count": 22,
   "metadata": {
    "ExecuteTime": {
     "end_time": "2020-10-01T02:24:21.003158Z",
     "start_time": "2020-10-01T02:24:20.546981Z"
    }
   },
   "outputs": [],
   "source": [
    "df_example_with_oov['post_padded_sequences'] =  pad_sequences(df_example_with_oov[\"sequence\"], maxlen=max_length, \n",
    "                                padding='post',\n",
    "                                truncating='post',).tolist()"
   ]
  },
  {
   "cell_type": "code",
   "execution_count": 23,
   "metadata": {
    "ExecuteTime": {
     "end_time": "2020-10-01T02:24:21.262374Z",
     "start_time": "2020-10-01T02:24:21.017769Z"
    }
   },
   "outputs": [],
   "source": [
    "df_example_with_oov['pre_padded_sequences'] =  pad_sequences(df_example_with_oov[\"sequence\"], maxlen=max_length, \n",
    "                                padding='pre',\n",
    "                                truncating='pre',).tolist()"
   ]
  },
  {
   "cell_type": "code",
   "execution_count": 24,
   "metadata": {
    "ExecuteTime": {
     "end_time": "2020-10-01T02:24:21.441743Z",
     "start_time": "2020-10-01T02:24:21.270775Z"
    }
   },
   "outputs": [
    {
     "data": {
      "text/html": [
       "<div>\n",
       "<style scoped>\n",
       "    .dataframe tbody tr th:only-of-type {\n",
       "        vertical-align: middle;\n",
       "    }\n",
       "\n",
       "    .dataframe tbody tr th {\n",
       "        vertical-align: top;\n",
       "    }\n",
       "\n",
       "    .dataframe thead th {\n",
       "        text-align: right;\n",
       "    }\n",
       "</style>\n",
       "<table border=\"1\" class=\"dataframe\">\n",
       "  <thead>\n",
       "    <tr style=\"text-align: right;\">\n",
       "      <th></th>\n",
       "      <th>raw_text</th>\n",
       "      <th>sequence</th>\n",
       "      <th>post_padded_sequences</th>\n",
       "      <th>pre_padded_sequences</th>\n",
       "    </tr>\n",
       "  </thead>\n",
       "  <tbody>\n",
       "    <tr>\n",
       "      <th>0</th>\n",
       "      <td>how is your week going</td>\n",
       "      <td>[2, 3, 4, 5, 6]</td>\n",
       "      <td>[2, 3, 4, 5, 6, 0, 0, 0, 0, 0, 0, 0, 0, 0, 0, ...</td>\n",
       "      <td>[0, 0, 0, 0, 0, 0, 0, 0, 0, 0, 0, 0, 0, 0, 0, ...</td>\n",
       "    </tr>\n",
       "    <tr>\n",
       "      <th>1</th>\n",
       "      <td>my week just started</td>\n",
       "      <td>[1, 5, 1, 1]</td>\n",
       "      <td>[1, 5, 1, 1, 0, 0, 0, 0, 0, 0, 0, 0, 0, 0, 0, ...</td>\n",
       "      <td>[0, 0, 0, 0, 0, 0, 0, 0, 0, 0, 0, 0, 0, 0, 0, ...</td>\n",
       "    </tr>\n",
       "    <tr>\n",
       "      <th>2</th>\n",
       "      <td>hope it goes good</td>\n",
       "      <td>[1, 1, 1, 1]</td>\n",
       "      <td>[1, 1, 1, 1, 0, 0, 0, 0, 0, 0, 0, 0, 0, 0, 0, ...</td>\n",
       "      <td>[0, 0, 0, 0, 0, 0, 0, 0, 0, 0, 0, 0, 0, 0, 0, ...</td>\n",
       "    </tr>\n",
       "    <tr>\n",
       "      <th>3</th>\n",
       "      <td>friday is holiday</td>\n",
       "      <td>[1, 3, 1]</td>\n",
       "      <td>[1, 3, 1, 0, 0, 0, 0, 0, 0, 0, 0, 0, 0, 0, 0, ...</td>\n",
       "      <td>[0, 0, 0, 0, 0, 0, 0, 0, 0, 0, 0, 0, 0, 0, 0, ...</td>\n",
       "    </tr>\n",
       "  </tbody>\n",
       "</table>\n",
       "</div>"
      ],
      "text/plain": [
       "                 raw_text         sequence  \\\n",
       "0  how is your week going  [2, 3, 4, 5, 6]   \n",
       "1    my week just started     [1, 5, 1, 1]   \n",
       "2       hope it goes good     [1, 1, 1, 1]   \n",
       "3       friday is holiday        [1, 3, 1]   \n",
       "\n",
       "                               post_padded_sequences  \\\n",
       "0  [2, 3, 4, 5, 6, 0, 0, 0, 0, 0, 0, 0, 0, 0, 0, ...   \n",
       "1  [1, 5, 1, 1, 0, 0, 0, 0, 0, 0, 0, 0, 0, 0, 0, ...   \n",
       "2  [1, 1, 1, 1, 0, 0, 0, 0, 0, 0, 0, 0, 0, 0, 0, ...   \n",
       "3  [1, 3, 1, 0, 0, 0, 0, 0, 0, 0, 0, 0, 0, 0, 0, ...   \n",
       "\n",
       "                                pre_padded_sequences  \n",
       "0  [0, 0, 0, 0, 0, 0, 0, 0, 0, 0, 0, 0, 0, 0, 0, ...  \n",
       "1  [0, 0, 0, 0, 0, 0, 0, 0, 0, 0, 0, 0, 0, 0, 0, ...  \n",
       "2  [0, 0, 0, 0, 0, 0, 0, 0, 0, 0, 0, 0, 0, 0, 0, ...  \n",
       "3  [0, 0, 0, 0, 0, 0, 0, 0, 0, 0, 0, 0, 0, 0, 0, ...  "
      ]
     },
     "execution_count": 24,
     "metadata": {},
     "output_type": "execute_result"
    }
   ],
   "source": [
    "df_example_with_oov"
   ]
  },
  {
   "cell_type": "markdown",
   "metadata": {},
   "source": [
    "# what is stemming"
   ]
  },
  {
   "cell_type": "markdown",
   "metadata": {},
   "source": [
    "stemming is the text normalization techniques.It is process of the cutting the word to stem(root)\n"
   ]
  },
  {
   "cell_type": "markdown",
   "metadata": {},
   "source": [
    "# \"Stemming is the process of reducing inflection in words to their root forms such as mapping a group of words to the same stem even if the stem itself is not a valid word in the Language.\""
   ]
  },
  {
   "cell_type": "markdown",
   "metadata": {},
   "source": [
    "### if the word ends in 'ed', remove the 'ed'\n"
   ]
  },
  {
   "cell_type": "markdown",
   "metadata": {},
   "source": [
    "### if the word ends in 'ing', remove the 'ing'\n"
   ]
  },
  {
   "cell_type": "markdown",
   "metadata": {},
   "source": [
    "### if the word ends in 'ly', remove the 'ly'"
   ]
  },
  {
   "cell_type": "code",
   "execution_count": 25,
   "metadata": {
    "ExecuteTime": {
     "end_time": "2020-10-01T02:24:39.991786Z",
     "start_time": "2020-10-01T02:24:21.447229Z"
    },
    "slideshow": {
     "slide_type": "subslide"
    }
   },
   "outputs": [],
   "source": [
    "\n",
    "from nltk.stem import PorterStemmer\n",
    "porter = PorterStemmer()\n",
    "#PorterStemmer uses Suffix Stripping to produce stems"
   ]
  },
  {
   "cell_type": "markdown",
   "metadata": {
    "ExecuteTime": {
     "end_time": "2020-09-29T04:07:15.261605Z",
     "start_time": "2020-09-29T04:07:15.257135Z"
    }
   },
   "source": [
    "# playing---->play\n",
    "played ---->play\n",
    "player----> "
   ]
  },
  {
   "cell_type": "code",
   "execution_count": 26,
   "metadata": {
    "ExecuteTime": {
     "end_time": "2020-10-01T02:24:40.013524Z",
     "start_time": "2020-10-01T02:24:39.995753Z"
    }
   },
   "outputs": [
    {
     "name": "stdout",
     "output_type": "stream",
     "text": [
      "['today', 'is', 'great', 'greater', 'greatest', \"day.I'm\", 'liking', 'it', 'very', 'much', 'playing']\n",
      "today\n",
      "is\n",
      "great\n",
      "greater\n",
      "greatest\n",
      "day.i'm\n",
      "like\n",
      "it\n",
      "veri\n",
      "much\n",
      "play\n"
     ]
    }
   ],
   "source": [
    "sentence=\"today is great greater greatest day.I'm liking it very much playing\"\n",
    "words=sentence.split()\n",
    "print(words)\n",
    "for w in words:\n",
    "    rootWord=porter.stem(w)\n",
    "    print(rootWord)"
   ]
  },
  {
   "cell_type": "code",
   "execution_count": 27,
   "metadata": {
    "ExecuteTime": {
     "end_time": "2020-10-01T02:24:40.150427Z",
     "start_time": "2020-10-01T02:24:40.025378Z"
    }
   },
   "outputs": [
    {
     "name": "stdout",
     "output_type": "stream",
     "text": [
      "be\n",
      "wait\n",
      "veri\n",
      "test\n",
      "mostli\n",
      "have\n",
      "cat\n",
      "stripe\n"
     ]
    }
   ],
   "source": [
    "from nltk.stem import PorterStemmer\n",
    "e_words= [\"being\", \"waiting\",\"very\",\"tested\",\"mostly\",\"having\",\"cats\",\"stripes\"]\n",
    "\n",
    "for w in e_words:\n",
    "    rootWord=porter.stem(w)\n",
    "    print(rootWord)"
   ]
  },
  {
   "cell_type": "markdown",
   "metadata": {},
   "source": [
    "### Lemmatization "
   ]
  },
  {
   "cell_type": "markdown",
   "metadata": {},
   "source": [
    "Lemmatization is the algorithmic process of finding the lemma of a word.\n",
    "It helps in returning the base or dictionary form of a word, which is known as the lemma"
   ]
  },
  {
   "cell_type": "code",
   "execution_count": 30,
   "metadata": {
    "ExecuteTime": {
     "end_time": "2020-10-02T03:43:22.074058Z",
     "start_time": "2020-10-02T03:43:00.536194Z"
    }
   },
   "outputs": [
    {
     "name": "stderr",
     "output_type": "stream",
     "text": [
      "[nltk_data] Downloading package wordnet to\n",
      "[nltk_data]     C:\\Users\\colourfulm\\AppData\\Roaming\\nltk_data...\n",
      "[nltk_data]   Unzipping corpora\\wordnet.zip.\n"
     ]
    },
    {
     "data": {
      "text/plain": [
       "True"
      ]
     },
     "execution_count": 30,
     "metadata": {},
     "output_type": "execute_result"
    }
   ],
   "source": [
    "# import nltk\n",
    "# nltk.download('wordnet')"
   ]
  },
  {
   "cell_type": "code",
   "execution_count": 31,
   "metadata": {
    "ExecuteTime": {
     "end_time": "2020-10-02T03:45:06.652955Z",
     "start_time": "2020-10-02T03:45:06.544582Z"
    }
   },
   "outputs": [],
   "source": [
    "from nltk.stem import WordNetLemmatizer\n",
    "lemmatizer = WordNetLemmatizer()"
   ]
  },
  {
   "cell_type": "code",
   "execution_count": 32,
   "metadata": {
    "ExecuteTime": {
     "end_time": "2020-10-02T03:45:21.748331Z",
     "start_time": "2020-10-02T03:45:06.753406Z"
    }
   },
   "outputs": [
    {
     "name": "stdout",
     "output_type": "stream",
     "text": [
      "being\n",
      "waiting\n",
      "very\n",
      "tested\n",
      "mostly\n",
      "having\n",
      "cat\n",
      "stripe\n"
     ]
    }
   ],
   "source": [
    "for w in e_words:\n",
    "    rootWord=lemmatizer.lemmatize(w)\n",
    "    print(rootWord)"
   ]
  },
  {
   "cell_type": "code",
   "execution_count": 33,
   "metadata": {
    "ExecuteTime": {
     "end_time": "2020-10-02T03:45:21.967142Z",
     "start_time": "2020-10-02T03:45:21.827540Z"
    }
   },
   "outputs": [
    {
     "data": {
      "text/plain": [
       "'strip'"
      ]
     },
     "execution_count": 33,
     "metadata": {},
     "output_type": "execute_result"
    }
   ],
   "source": [
    "lemmatizer.lemmatize('stripes',pos=\"v\")"
   ]
  },
  {
   "cell_type": "code",
   "execution_count": 36,
   "metadata": {
    "ExecuteTime": {
     "end_time": "2020-10-02T03:47:11.333356Z",
     "start_time": "2020-10-02T03:46:55.774739Z"
    }
   },
   "outputs": [
    {
     "name": "stderr",
     "output_type": "stream",
     "text": [
      "[nltk_data] Downloading package punkt to\n",
      "[nltk_data]     C:\\Users\\colourfulm\\AppData\\Roaming\\nltk_data...\n",
      "[nltk_data]   Unzipping tokenizers\\punkt.zip.\n"
     ]
    },
    {
     "data": {
      "text/plain": [
       "True"
      ]
     },
     "execution_count": 36,
     "metadata": {},
     "output_type": "execute_result"
    }
   ],
   "source": [
    "# nltk.download('punkt')"
   ]
  },
  {
   "cell_type": "code",
   "execution_count": 34,
   "metadata": {
    "ExecuteTime": {
     "end_time": "2020-10-02T03:45:24.967184Z",
     "start_time": "2020-10-02T03:45:21.975125Z"
    }
   },
   "outputs": [],
   "source": [
    "\n",
    "import re  # regularization \n",
    "from nltk.corpus import stopwords\n",
    "stops = set(stopwords.words('english'))\n",
    "from nltk.tokenize import word_tokenize\n",
    "\n",
    "from nltk.stem import PorterStemmer\n",
    "ps =PorterStemmer()\n",
    "\n",
    "\n",
    "\n",
    "\n",
    "from nltk.stem import WordNetLemmatizer\n",
    "lemmatizer = WordNetLemmatizer()\n",
    "\n",
    "def general_clean(text):\n",
    "    text = text.lower()  # LOWER THE CASE\n",
    "    text = re.sub(\"[^a-z0-9.\\- ]\",\" \",text) # keeping only aplha numerical  @#$\n",
    "    text = re.sub(r\"   \", \" \", text) # Remove any extra spaces\n",
    "    return text\n",
    "\n",
    "\n",
    "\n",
    "def clean(text):\n",
    "    text=text.lower()\n",
    "    print(\"lowered text:\",text)\n",
    "    cleaned_words=word_tokenize(text)\n",
    "    cleaned_words=[word for word in cleaned_words if word not in stops]\n",
    "    stemmer=[ps.stem(words) for words in cleaned_words]\n",
    "  \n",
    "   \n",
    "    lemmatizer_=[lemmatizer.lemmatize(words) for words in cleaned_words]\n",
    "    print(\"cleaned text:\",cleaned_words) \n",
    "    print(\"stemmer     :\",stemmer)\n",
    "    print(\"lemmatizer  :\",lemmatizer_)\n",
    "    return \" \".join(lemmatizer_)\n",
    "\n",
    "    "
   ]
  },
  {
   "cell_type": "code",
   "execution_count": 37,
   "metadata": {
    "ExecuteTime": {
     "end_time": "2020-10-02T03:47:45.105321Z",
     "start_time": "2020-10-02T03:47:44.795762Z"
    }
   },
   "outputs": [
    {
     "name": "stdout",
     "output_type": "stream",
     "text": [
      "lowered text: the dog is liking the car very much.\n",
      "cleaned text: ['dog', 'liking', 'car', 'much', '.']\n",
      "stemmer     : ['dog', 'like', 'car', 'much', '.']\n",
      "lemmatizer  : ['dog', 'liking', 'car', 'much', '.']\n"
     ]
    },
    {
     "data": {
      "text/plain": [
       "'dog liking car much .'"
      ]
     },
     "execution_count": 37,
     "metadata": {},
     "output_type": "execute_result"
    }
   ],
   "source": [
    "clean(\"The dog is liking the car very much.\")"
   ]
  },
  {
   "cell_type": "code",
   "execution_count": null,
   "metadata": {},
   "outputs": [],
   "source": []
  },
  {
   "cell_type": "code",
   "execution_count": 38,
   "metadata": {
    "ExecuteTime": {
     "end_time": "2020-10-02T03:47:49.541005Z",
     "start_time": "2020-10-02T03:47:49.470321Z"
    }
   },
   "outputs": [
    {
     "ename": "NameError",
     "evalue": "name 'X_train' is not defined",
     "output_type": "error",
     "traceback": [
      "\u001b[1;31m---------------------------------------------------------------------------\u001b[0m",
      "\u001b[1;31mNameError\u001b[0m                                 Traceback (most recent call last)",
      "\u001b[1;32m<ipython-input-38-f94a6d9c3497>\u001b[0m in \u001b[0;36m<module>\u001b[1;34m\u001b[0m\n\u001b[0;32m      1\u001b[0m \u001b[0mtokenizer\u001b[0m \u001b[1;33m=\u001b[0m \u001b[0mTokenizer\u001b[0m\u001b[1;33m(\u001b[0m\u001b[0mnum_words\u001b[0m\u001b[1;33m=\u001b[0m\u001b[1;36m5000\u001b[0m\u001b[1;33m,\u001b[0m\u001b[0moov_token\u001b[0m\u001b[1;33m=\u001b[0m\u001b[1;34m\"UNK\"\u001b[0m\u001b[1;33m)\u001b[0m\u001b[1;33m\u001b[0m\u001b[1;33m\u001b[0m\u001b[0m\n\u001b[1;32m----> 2\u001b[1;33m \u001b[0mtokenizer\u001b[0m\u001b[1;33m.\u001b[0m\u001b[0mfit_on_texts\u001b[0m\u001b[1;33m(\u001b[0m\u001b[0mX_train\u001b[0m\u001b[1;33m)\u001b[0m\u001b[1;33m\u001b[0m\u001b[1;33m\u001b[0m\u001b[0m\n\u001b[0m\u001b[0;32m      3\u001b[0m \u001b[1;33m\u001b[0m\u001b[0m\n\u001b[0;32m      4\u001b[0m \u001b[0mX_train\u001b[0m \u001b[1;33m=\u001b[0m \u001b[0mtokenizer\u001b[0m\u001b[1;33m.\u001b[0m\u001b[0mtexts_to_sequences\u001b[0m\u001b[1;33m(\u001b[0m\u001b[0mX_train\u001b[0m\u001b[1;33m)\u001b[0m \u001b[1;31m# return the indices\u001b[0m\u001b[1;33m\u001b[0m\u001b[1;33m\u001b[0m\u001b[0m\n\u001b[0;32m      5\u001b[0m \u001b[0mX_test\u001b[0m \u001b[1;33m=\u001b[0m \u001b[0mtokenizer\u001b[0m\u001b[1;33m.\u001b[0m\u001b[0mtexts_to_sequences\u001b[0m\u001b[1;33m(\u001b[0m\u001b[0mX_test\u001b[0m\u001b[1;33m)\u001b[0m\u001b[1;33m\u001b[0m\u001b[1;33m\u001b[0m\u001b[0m\n",
      "\u001b[1;31mNameError\u001b[0m: name 'X_train' is not defined"
     ]
    }
   ],
   "source": [
    "tokenizer = Tokenizer(num_words=5000,oov_token=\"UNK\")\n",
    "tokenizer.fit_on_texts(X_train)\n",
    "\n",
    "X_train = tokenizer.texts_to_sequences(X_train) # return the indices\n",
    "X_test = tokenizer.texts_to_sequences(X_test)\n",
    "\n",
    "\n",
    "\n",
    "maxlen = 200\n",
    "\n",
    "X_train = pad_sequences(X_train, padding='post', maxlen=maxlen,)\n",
    "X_test = pad_sequences(X_test, padding='post', maxlen=maxlen)"
   ]
  }
 ],
 "metadata": {
  "hide_input": false,
  "kernelspec": {
   "display_name": "Python 3",
   "language": "python",
   "name": "python3"
  },
  "language_info": {
   "codemirror_mode": {
    "name": "ipython",
    "version": 3
   },
   "file_extension": ".py",
   "mimetype": "text/x-python",
   "name": "python",
   "nbconvert_exporter": "python",
   "pygments_lexer": "ipython3",
   "version": "3.7.6"
  }
 },
 "nbformat": 4,
 "nbformat_minor": 4
}
