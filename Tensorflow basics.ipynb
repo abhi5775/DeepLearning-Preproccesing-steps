{
 "cells": [
  {
   "cell_type": "code",
   "execution_count": 1,
   "metadata": {},
   "outputs": [],
   "source": [
    "import tensorflow as tf"
   ]
  },
  {
   "cell_type": "code",
   "execution_count": 3,
   "metadata": {},
   "outputs": [
    {
     "name": "stdout",
     "output_type": "stream",
     "text": [
      "your tensorflow version: 2.3.0\n"
     ]
    }
   ],
   "source": [
    "print('your tensorflow version: {}'.format(tf.__version__))"
   ]
  },
  {
   "cell_type": "code",
   "execution_count": 21,
   "metadata": {},
   "outputs": [
    {
     "name": "stdout",
     "output_type": "stream",
     "text": [
      "scalar tf.Tensor(3, shape=(), dtype=int32)\n",
      "vector tf.Tensor([2 3 4 5], shape=(4,), dtype=int32)\n",
      "matrix tf.Tensor(\n",
      "[[2 3 5]\n",
      " [5 6 7]], shape=(2, 3), dtype=int32)\n",
      "tensor tf.Tensor(\n",
      "[[7 7 8]\n",
      " [8 7 8]\n",
      " [8 8 9]], shape=(3, 3), dtype=int32)\n"
     ]
    }
   ],
   "source": [
    "# scalar: a scaler has magnitude(size) only\n",
    "x=tf.constant(3)\n",
    "print('scalar',x)\n",
    "# vector: a vector has both magnitude(size) and direction \n",
    "x=tf.constant([2,3,4,5])\n",
    "print('vector',x)\n",
    "# matrix\n",
    "x=tf.constant([[2,3,5],[5,6,7]])\n",
    "print('matrix',x)\n",
    "# tensor\n",
    "x=tf.constant([[7,7,8],[8,7,8],[8,8,9]])\n",
    "print('tensor',x)"
   ]
  },
  {
   "cell_type": "code",
   "execution_count": 32,
   "metadata": {},
   "outputs": [
    {
     "name": "stdout",
     "output_type": "stream",
     "text": [
      "tf.Tensor(3, shape=(), dtype=int32)\n",
      "tf.Tensor([3 3], shape=(2,), dtype=int32)\n",
      "tf.Tensor(\n",
      "[[3 3]\n",
      " [3 3]], shape=(2, 2), dtype=int32)\n"
     ]
    }
   ],
   "source": [
    "# stacking\n",
    "a=tf.constant(3)\n",
    "print(a)\n",
    "b=tf.stack([a,a])\n",
    "print(b)\n",
    "c=tf.stack([b,b])\n",
    "print(c)\n"
   ]
  },
  {
   "cell_type": "code",
   "execution_count": 34,
   "metadata": {},
   "outputs": [
    {
     "name": "stdout",
     "output_type": "stream",
     "text": [
      "tf.Tensor(\n",
      "[[1 2 3]\n",
      " [4 5 6]], shape=(2, 3), dtype=int32)\n"
     ]
    }
   ],
   "source": [
    "#slicing\n",
    "a=tf.constant([[1,2,3],[4,5,6]])\n",
    "print(a)"
   ]
  },
  {
   "cell_type": "code",
   "execution_count": 44,
   "metadata": {},
   "outputs": [
    {
     "name": "stdout",
     "output_type": "stream",
     "text": [
      "tf.Tensor([2 5], shape=(2,), dtype=int32)\n"
     ]
    }
   ],
   "source": [
    "slic_a=a[:,1]\n",
    "print(slic_a)"
   ]
  },
  {
   "cell_type": "code",
   "execution_count": null,
   "metadata": {},
   "outputs": [],
   "source": [
    "# variable\n",
    "var=tf.Variable()"
   ]
  },
  {
   "cell_type": "code",
   "execution_count": null,
   "metadata": {},
   "outputs": [],
   "source": []
  }
 ],
 "metadata": {
  "hide_input": false,
  "kernelspec": {
   "display_name": "Python 3",
   "language": "python",
   "name": "python3"
  },
  "language_info": {
   "codemirror_mode": {
    "name": "ipython",
    "version": 3
   },
   "file_extension": ".py",
   "mimetype": "text/x-python",
   "name": "python",
   "nbconvert_exporter": "python",
   "pygments_lexer": "ipython3",
   "version": "3.7.6"
  }
 },
 "nbformat": 4,
 "nbformat_minor": 4
}
