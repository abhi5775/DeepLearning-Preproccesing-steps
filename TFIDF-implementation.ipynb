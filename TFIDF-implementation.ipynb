{
 "cells": [
  {
   "cell_type": "code",
   "execution_count": 1,
   "metadata": {
    "ExecuteTime": {
     "end_time": "2020-09-22T02:47:54.988696Z",
     "start_time": "2020-09-22T02:47:54.955129Z"
    }
   },
   "outputs": [],
   "source": [
    "docs=[\"the train leaves every morning at 7 AM\",\n",
    "    \"i had not been cooking any breakfast when my mom is in home\",\n",
    "     \"again the arrives at 7 PM every evening\"]"
   ]
  },
  {
   "cell_type": "markdown",
   "metadata": {
    "ExecuteTime": {
     "end_time": "2020-09-21T05:20:42.638091Z",
     "start_time": "2020-09-21T05:20:42.631980Z"
    }
   },
   "source": [
    "# count vectorizer"
   ]
  },
  {
   "cell_type": "code",
   "execution_count": 2,
   "metadata": {
    "ExecuteTime": {
     "end_time": "2020-09-22T02:48:11.369116Z",
     "start_time": "2020-09-22T02:47:56.254868Z"
    }
   },
   "outputs": [],
   "source": [
    "from sklearn.feature_extraction.text import CountVectorizer\n",
    "cv=CountVectorizer(stop_words='english')"
   ]
  },
  {
   "cell_type": "code",
   "execution_count": 3,
   "metadata": {
    "ExecuteTime": {
     "end_time": "2020-09-22T02:48:19.917970Z",
     "start_time": "2020-09-22T02:48:19.736715Z"
    }
   },
   "outputs": [],
   "source": [
    "countvect=cv.fit_transform(docs)"
   ]
  },
  {
   "cell_type": "code",
   "execution_count": 4,
   "metadata": {
    "ExecuteTime": {
     "end_time": "2020-09-22T02:48:20.558863Z",
     "start_time": "2020-09-22T02:48:20.545880Z"
    }
   },
   "outputs": [
    {
     "name": "stdout",
     "output_type": "stream",
     "text": [
      "{'train': 9, 'leaves': 5, 'morning': 7, 'cooking': 2, 'breakfast': 1, 'mom': 6, 'home': 4, 'arrives': 0, 'pm': 8, 'evening': 3}\n"
     ]
    }
   ],
   "source": [
    "print(cv.vocabulary_)"
   ]
  },
  {
   "cell_type": "code",
   "execution_count": 5,
   "metadata": {
    "ExecuteTime": {
     "end_time": "2020-09-22T02:48:30.382044Z",
     "start_time": "2020-09-22T02:48:30.360028Z"
    }
   },
   "outputs": [
    {
     "data": {
      "text/plain": [
       "(3, 10)"
      ]
     },
     "execution_count": 5,
     "metadata": {},
     "output_type": "execute_result"
    }
   ],
   "source": [
    "countvect.shape"
   ]
  },
  {
   "cell_type": "code",
   "execution_count": 6,
   "metadata": {
    "ExecuteTime": {
     "end_time": "2020-09-22T02:48:32.225728Z",
     "start_time": "2020-09-22T02:48:32.152949Z"
    }
   },
   "outputs": [
    {
     "data": {
      "text/plain": [
       "array([[0, 0, 0, 0, 0, 1, 0, 1, 0, 1],\n",
       "       [0, 1, 1, 0, 1, 0, 1, 0, 0, 0],\n",
       "       [1, 0, 0, 1, 0, 0, 0, 0, 1, 0]], dtype=int64)"
      ]
     },
     "execution_count": 6,
     "metadata": {},
     "output_type": "execute_result"
    }
   ],
   "source": [
    "countvect.toarray()"
   ]
  },
  {
   "cell_type": "markdown",
   "metadata": {},
   "source": [
    "## TFIDF_Transformer"
   ]
  },
  {
   "cell_type": "code",
   "execution_count": 7,
   "metadata": {
    "ExecuteTime": {
     "end_time": "2020-09-22T02:48:33.666400Z",
     "start_time": "2020-09-22T02:48:33.659913Z"
    }
   },
   "outputs": [],
   "source": [
    "from sklearn.feature_extraction.text import TfidfTransformer\n",
    "tt=TfidfTransformer()"
   ]
  },
  {
   "cell_type": "code",
   "execution_count": 8,
   "metadata": {
    "ExecuteTime": {
     "end_time": "2020-09-22T02:48:34.776897Z",
     "start_time": "2020-09-22T02:48:34.711992Z"
    }
   },
   "outputs": [
    {
     "data": {
      "text/plain": [
       "TfidfTransformer()"
      ]
     },
     "execution_count": 8,
     "metadata": {},
     "output_type": "execute_result"
    }
   ],
   "source": [
    "tt.fit(countvect)"
   ]
  },
  {
   "cell_type": "code",
   "execution_count": 9,
   "metadata": {
    "ExecuteTime": {
     "end_time": "2020-09-22T02:48:35.282029Z",
     "start_time": "2020-09-22T02:48:35.200878Z"
    }
   },
   "outputs": [],
   "source": [
    "tfidf_transformer=tt.transform(countvect)"
   ]
  },
  {
   "cell_type": "code",
   "execution_count": 10,
   "metadata": {
    "ExecuteTime": {
     "end_time": "2020-09-22T02:48:35.591794Z",
     "start_time": "2020-09-22T02:48:35.583092Z"
    }
   },
   "outputs": [
    {
     "data": {
      "text/plain": [
       "<3x10 sparse matrix of type '<class 'numpy.float64'>'\n",
       "\twith 10 stored elements in Compressed Sparse Row format>"
      ]
     },
     "execution_count": 10,
     "metadata": {},
     "output_type": "execute_result"
    }
   ],
   "source": [
    "tfidf_transformer"
   ]
  },
  {
   "cell_type": "code",
   "execution_count": 11,
   "metadata": {
    "ExecuteTime": {
     "end_time": "2020-09-22T02:48:36.287237Z",
     "start_time": "2020-09-22T02:48:36.279667Z"
    }
   },
   "outputs": [
    {
     "data": {
      "text/plain": [
       "(3, 10)"
      ]
     },
     "execution_count": 11,
     "metadata": {},
     "output_type": "execute_result"
    }
   ],
   "source": [
    "tfidf_transformer.shape"
   ]
  },
  {
   "cell_type": "code",
   "execution_count": 12,
   "metadata": {
    "ExecuteTime": {
     "end_time": "2020-09-22T02:48:36.865989Z",
     "start_time": "2020-09-22T02:48:36.837601Z"
    }
   },
   "outputs": [
    {
     "data": {
      "text/plain": [
       "array([[0.        , 0.        , 0.        , 0.        , 0.        ,\n",
       "        0.57735027, 0.        , 0.57735027, 0.        , 0.57735027],\n",
       "       [0.        , 0.5       , 0.5       , 0.        , 0.5       ,\n",
       "        0.        , 0.5       , 0.        , 0.        , 0.        ],\n",
       "       [0.57735027, 0.        , 0.        , 0.57735027, 0.        ,\n",
       "        0.        , 0.        , 0.        , 0.57735027, 0.        ]])"
      ]
     },
     "execution_count": 12,
     "metadata": {},
     "output_type": "execute_result"
    }
   ],
   "source": [
    "tfidf_transformer.toarray()"
   ]
  },
  {
   "cell_type": "markdown",
   "metadata": {},
   "source": [
    "#  TFIDF VECTORIZER"
   ]
  },
  {
   "cell_type": "code",
   "execution_count": 13,
   "metadata": {
    "ExecuteTime": {
     "end_time": "2020-09-22T02:48:38.035965Z",
     "start_time": "2020-09-22T02:48:38.029738Z"
    }
   },
   "outputs": [],
   "source": [
    "from sklearn.feature_extraction.text import TfidfVectorizer\n",
    "tv=TfidfVectorizer()"
   ]
  },
  {
   "cell_type": "code",
   "execution_count": 14,
   "metadata": {
    "ExecuteTime": {
     "end_time": "2020-09-22T02:48:38.389484Z",
     "start_time": "2020-09-22T02:48:38.378701Z"
    }
   },
   "outputs": [],
   "source": [
    "tfidf_vector=tv.fit_transform(docs)"
   ]
  },
  {
   "cell_type": "code",
   "execution_count": 15,
   "metadata": {
    "ExecuteTime": {
     "end_time": "2020-09-22T02:48:38.872990Z",
     "start_time": "2020-09-22T02:48:38.864880Z"
    }
   },
   "outputs": [
    {
     "data": {
      "text/plain": [
       "<3x23 sparse matrix of type '<class 'numpy.float64'>'\n",
       "\twith 26 stored elements in Compressed Sparse Row format>"
      ]
     },
     "execution_count": 15,
     "metadata": {},
     "output_type": "execute_result"
    }
   ],
   "source": [
    "tfidf_vector"
   ]
  },
  {
   "cell_type": "code",
   "execution_count": 16,
   "metadata": {
    "ExecuteTime": {
     "end_time": "2020-09-22T02:48:39.401920Z",
     "start_time": "2020-09-22T02:48:39.393961Z"
    }
   },
   "outputs": [
    {
     "data": {
      "text/plain": [
       "(3, 23)"
      ]
     },
     "execution_count": 16,
     "metadata": {},
     "output_type": "execute_result"
    }
   ],
   "source": [
    "tfidf_vector.shape"
   ]
  },
  {
   "cell_type": "code",
   "execution_count": 17,
   "metadata": {
    "ExecuteTime": {
     "end_time": "2020-09-22T02:48:40.093747Z",
     "start_time": "2020-09-22T02:48:40.082922Z"
    }
   },
   "outputs": [
    {
     "data": {
      "text/plain": [
       "array([[0.        , 0.41756662, 0.        , 0.        , 0.31757018,\n",
       "        0.        , 0.        , 0.        , 0.        , 0.31757018,\n",
       "        0.        , 0.        , 0.        , 0.        , 0.41756662,\n",
       "        0.        , 0.41756662, 0.        , 0.        , 0.        ,\n",
       "        0.31757018, 0.41756662, 0.        ],\n",
       "       [0.        , 0.        , 0.28867513, 0.        , 0.        ,\n",
       "        0.28867513, 0.28867513, 0.28867513, 0.        , 0.        ,\n",
       "        0.28867513, 0.28867513, 0.28867513, 0.28867513, 0.        ,\n",
       "        0.28867513, 0.        , 0.28867513, 0.28867513, 0.        ,\n",
       "        0.        , 0.        , 0.28867513],\n",
       "       [0.41756662, 0.        , 0.        , 0.41756662, 0.31757018,\n",
       "        0.        , 0.        , 0.        , 0.41756662, 0.31757018,\n",
       "        0.        , 0.        , 0.        , 0.        , 0.        ,\n",
       "        0.        , 0.        , 0.        , 0.        , 0.41756662,\n",
       "        0.31757018, 0.        , 0.        ]])"
      ]
     },
     "execution_count": 17,
     "metadata": {},
     "output_type": "execute_result"
    }
   ],
   "source": [
    "tfidf_vector.toarray()"
   ]
  },
  {
   "cell_type": "code",
   "execution_count": null,
   "metadata": {},
   "outputs": [],
   "source": []
  }
 ],
 "metadata": {
  "hide_input": false,
  "kernelspec": {
   "display_name": "Python 3",
   "language": "python",
   "name": "python3"
  },
  "language_info": {
   "codemirror_mode": {
    "name": "ipython",
    "version": 3
   },
   "file_extension": ".py",
   "mimetype": "text/x-python",
   "name": "python",
   "nbconvert_exporter": "python",
   "pygments_lexer": "ipython3",
   "version": "3.7.6"
  }
 },
 "nbformat": 4,
 "nbformat_minor": 4
}
