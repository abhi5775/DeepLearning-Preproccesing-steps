{
 "cells": [
  {
   "cell_type": "code",
   "execution_count": 3,
   "metadata": {
    "colab": {},
    "colab_type": "code",
    "executionInfo": {
     "elapsed": 2758,
     "status": "ok",
     "timestamp": 1600331887554,
     "user": {
      "displayName": "Harika Samala",
      "photoUrl": "https://lh3.googleusercontent.com/a-/AOh14Gj1jICdaGVutFZSBFl6jI1NWgFsvHfUK3H1rvb-xQ=s64",
      "userId": "09750795426681138252"
     },
     "user_tz": -330
    },
    "id": "KD4ADjLmI_7-"
   },
   "outputs": [],
   "source": [
    "import tensorflow as tf\n",
    "import numpy as np\n",
    "from termcolor import colored"
   ]
  },
  {
   "cell_type": "code",
   "execution_count": 4,
   "metadata": {
    "colab": {
     "base_uri": "https://localhost:8080/",
     "height": 34
    },
    "colab_type": "code",
    "executionInfo": {
     "elapsed": 2749,
     "status": "ok",
     "timestamp": 1600331887557,
     "user": {
      "displayName": "Harika Samala",
      "photoUrl": "https://lh3.googleusercontent.com/a-/AOh14Gj1jICdaGVutFZSBFl6jI1NWgFsvHfUK3H1rvb-xQ=s64",
      "userId": "09750795426681138252"
     },
     "user_tz": -330
    },
    "id": "IINFfT_pJLAG",
    "outputId": "b58a5458-49f4-4a3e-f923-433750332867"
   },
   "outputs": [
    {
     "name": "stdout",
     "output_type": "stream",
     "text": [
      "Your TensorFlow version: 2.3.0\n"
     ]
    }
   ],
   "source": [
    "print(('Your TensorFlow version: {0}').format(tf.__version__))"
   ]
  },
  {
   "cell_type": "markdown",
   "metadata": {
    "colab_type": "text",
    "id": "vfw0ziP8_Dq5"
   },
   "source": [
    "# **simple numerical example for feed forward**"
   ]
  },
  {
   "cell_type": "code",
   "execution_count": 5,
   "metadata": {
    "colab": {},
    "colab_type": "code",
    "executionInfo": {
     "elapsed": 1211,
     "status": "ok",
     "timestamp": 1600331899119,
     "user": {
      "displayName": "Harika Samala",
      "photoUrl": "https://lh3.googleusercontent.com/a-/AOh14Gj1jICdaGVutFZSBFl6jI1NWgFsvHfUK3H1rvb-xQ=s64",
      "userId": "09750795426681138252"
     },
     "user_tz": -330
    },
    "id": "FyqWEWSDXcCt"
   },
   "outputs": [],
   "source": [
    "n_input=4\n",
    "n_hidden1=3\n",
    "n_hidden2=3\n",
    "n_output=2\n",
    "\n",
    "weights = {\n",
    "    'w1': tf.Variable(tf.random.truncated_normal([n_input, n_hidden1], stddev=0.1)),\n",
    "    'w2': tf.Variable(tf.random.truncated_normal([n_hidden1, n_hidden2], stddev=0.1)),\n",
    "    'out': tf.Variable(tf.random.truncated_normal([n_hidden2, n_output], stddev=0.1)),\n",
    "}\n",
    "biases = {\n",
    "    'b1': tf.Variable(tf.constant(0.1, shape=[n_hidden1])),\n",
    "    'b2': tf.Variable(tf.constant(0.1, shape=[n_hidden2])),\n",
    "    'out': tf.Variable(tf.constant(0.1, shape=[n_output]))\n",
    "}"
   ]
  },
  {
   "cell_type": "code",
   "execution_count": 6,
   "metadata": {
    "colab": {
     "base_uri": "https://localhost:8080/",
     "height": 34
    },
    "colab_type": "code",
    "executionInfo": {
     "elapsed": 1255,
     "status": "ok",
     "timestamp": 1600331899712,
     "user": {
      "displayName": "Harika Samala",
      "photoUrl": "https://lh3.googleusercontent.com/a-/AOh14Gj1jICdaGVutFZSBFl6jI1NWgFsvHfUK3H1rvb-xQ=s64",
      "userId": "09750795426681138252"
     },
     "user_tz": -330
    },
    "id": "8Y9pIW9Xa9jk",
    "outputId": "a38cfed0-c8e7-499d-8477-c5f0a542333c"
   },
   "outputs": [
    {
     "data": {
      "text/plain": [
       "TensorShape([4, 3])"
      ]
     },
     "execution_count": 6,
     "metadata": {},
     "output_type": "execute_result"
    }
   ],
   "source": [
    "weights['w1'].shape"
   ]
  },
  {
   "cell_type": "code",
   "execution_count": 7,
   "metadata": {
    "colab": {
     "base_uri": "https://localhost:8080/",
     "height": 34
    },
    "colab_type": "code",
    "executionInfo": {
     "elapsed": 750,
     "status": "ok",
     "timestamp": 1600331899714,
     "user": {
      "displayName": "Harika Samala",
      "photoUrl": "https://lh3.googleusercontent.com/a-/AOh14Gj1jICdaGVutFZSBFl6jI1NWgFsvHfUK3H1rvb-xQ=s64",
      "userId": "09750795426681138252"
     },
     "user_tz": -330
    },
    "id": "yeusq5g7dn9K",
    "outputId": "d58d313e-a6b6-4f42-a277-b3d4f63d3e55"
   },
   "outputs": [
    {
     "data": {
      "text/plain": [
       "TensorShape([3, 3])"
      ]
     },
     "execution_count": 7,
     "metadata": {},
     "output_type": "execute_result"
    }
   ],
   "source": [
    "weights['w2'].shape"
   ]
  },
  {
   "cell_type": "code",
   "execution_count": 8,
   "metadata": {
    "colab": {
     "base_uri": "https://localhost:8080/",
     "height": 34
    },
    "colab_type": "code",
    "executionInfo": {
     "elapsed": 864,
     "status": "ok",
     "timestamp": 1600331900854,
     "user": {
      "displayName": "Harika Samala",
      "photoUrl": "https://lh3.googleusercontent.com/a-/AOh14Gj1jICdaGVutFZSBFl6jI1NWgFsvHfUK3H1rvb-xQ=s64",
      "userId": "09750795426681138252"
     },
     "user_tz": -330
    },
    "id": "ILp4joEUdsqD",
    "outputId": "80ba61a0-cb97-4beb-f78d-fa8fb427c17a"
   },
   "outputs": [
    {
     "data": {
      "text/plain": [
       "TensorShape([2])"
      ]
     },
     "execution_count": 8,
     "metadata": {},
     "output_type": "execute_result"
    }
   ],
   "source": [
    "biases['out'].shape"
   ]
  },
  {
   "cell_type": "code",
   "execution_count": 9,
   "metadata": {
    "colab": {
     "base_uri": "https://localhost:8080/",
     "height": 34
    },
    "colab_type": "code",
    "executionInfo": {
     "elapsed": 748,
     "status": "ok",
     "timestamp": 1600331901302,
     "user": {
      "displayName": "Harika Samala",
      "photoUrl": "https://lh3.googleusercontent.com/a-/AOh14Gj1jICdaGVutFZSBFl6jI1NWgFsvHfUK3H1rvb-xQ=s64",
      "userId": "09750795426681138252"
     },
     "user_tz": -330
    },
    "id": "jDKvxmUQfdYm",
    "outputId": "8ba5d0e9-441f-4cf6-edf5-e6e74293c6c4"
   },
   "outputs": [
    {
     "data": {
      "text/plain": [
       "TensorShape([3, 2])"
      ]
     },
     "execution_count": 9,
     "metadata": {},
     "output_type": "execute_result"
    }
   ],
   "source": [
    "weights['out'].shape"
   ]
  },
  {
   "cell_type": "code",
   "execution_count": 10,
   "metadata": {
    "colab": {},
    "colab_type": "code",
    "executionInfo": {
     "elapsed": 900,
     "status": "ok",
     "timestamp": 1600331902087,
     "user": {
      "displayName": "Harika Samala",
      "photoUrl": "https://lh3.googleusercontent.com/a-/AOh14Gj1jICdaGVutFZSBFl6jI1NWgFsvHfUK3H1rvb-xQ=s64",
      "userId": "09750795426681138252"
     },
     "user_tz": -330
    },
    "id": "4E1sc-xSblZW"
   },
   "outputs": [],
   "source": [
    "x=tf.Variable([[1.0, 2.0, 3.0,4.0], [4.0, 5.0, 6.0,7.0],[7.0,8.0,9.0,10.0]])\n",
    "output=tf.Variable([[1.0, 2.0], [4.0, 5.0],[6.0,5.0]])"
   ]
  },
  {
   "cell_type": "code",
   "execution_count": 11,
   "metadata": {
    "colab": {
     "base_uri": "https://localhost:8080/",
     "height": 34
    },
    "colab_type": "code",
    "executionInfo": {
     "elapsed": 682,
     "status": "ok",
     "timestamp": 1600331902517,
     "user": {
      "displayName": "Harika Samala",
      "photoUrl": "https://lh3.googleusercontent.com/a-/AOh14Gj1jICdaGVutFZSBFl6jI1NWgFsvHfUK3H1rvb-xQ=s64",
      "userId": "09750795426681138252"
     },
     "user_tz": -330
    },
    "id": "cGhBN2-TgCj2",
    "outputId": "0ebdbc4d-1295-4487-dc28-ac356356a1dc"
   },
   "outputs": [
    {
     "data": {
      "text/plain": [
       "TensorShape([3, 2])"
      ]
     },
     "execution_count": 11,
     "metadata": {},
     "output_type": "execute_result"
    }
   ],
   "source": [
    "output.shape"
   ]
  },
  {
   "cell_type": "code",
   "execution_count": 12,
   "metadata": {
    "colab": {},
    "colab_type": "code",
    "executionInfo": {
     "elapsed": 1163,
     "status": "ok",
     "timestamp": 1600331903525,
     "user": {
      "displayName": "Harika Samala",
      "photoUrl": "https://lh3.googleusercontent.com/a-/AOh14Gj1jICdaGVutFZSBFl6jI1NWgFsvHfUK3H1rvb-xQ=s64",
      "userId": "09750795426681138252"
     },
     "user_tz": -330
    },
    "id": "lKrxVT_pYzR2"
   },
   "outputs": [],
   "source": [
    "\n",
    "hidden_1 = tf.nn.sigmoid(tf.add(tf.matmul(x, weights['w1']),biases['b1']))  # hidden value calc\n",
    "hidden_2 = tf.nn.sigmoid(tf.add(tf.matmul(hidden_1, weights['w2']),biases['b2']))\n",
    "y_hat = tf.tanh(tf.add(tf.matmul(hidden_2,weights['out']),biases['out'])) "
   ]
  },
  {
   "cell_type": "code",
   "execution_count": 13,
   "metadata": {
    "colab": {
     "base_uri": "https://localhost:8080/",
     "height": 85
    },
    "colab_type": "code",
    "executionInfo": {
     "elapsed": 607,
     "status": "ok",
     "timestamp": 1600331903526,
     "user": {
      "displayName": "Harika Samala",
      "photoUrl": "https://lh3.googleusercontent.com/a-/AOh14Gj1jICdaGVutFZSBFl6jI1NWgFsvHfUK3H1rvb-xQ=s64",
      "userId": "09750795426681138252"
     },
     "user_tz": -330
    },
    "id": "sSUlueV1Y0Up",
    "outputId": "4107a347-b7eb-41c4-90f2-8bf56fd3c13d"
   },
   "outputs": [
    {
     "data": {
      "text/plain": [
       "<tf.Tensor: shape=(3, 2), dtype=float32, numpy=\n",
       "array([[0.10159659, 0.11569624],\n",
       "       [0.10164171, 0.11499551],\n",
       "       [0.10168087, 0.11437882]], dtype=float32)>"
      ]
     },
     "execution_count": 13,
     "metadata": {},
     "output_type": "execute_result"
    }
   ],
   "source": [
    "y_hat"
   ]
  },
  {
   "cell_type": "code",
   "execution_count": 14,
   "metadata": {
    "colab": {},
    "colab_type": "code",
    "executionInfo": {
     "elapsed": 1090,
     "status": "ok",
     "timestamp": 1600331904590,
     "user": {
      "displayName": "Harika Samala",
      "photoUrl": "https://lh3.googleusercontent.com/a-/AOh14Gj1jICdaGVutFZSBFl6jI1NWgFsvHfUK3H1rvb-xQ=s64",
      "userId": "09750795426681138252"
     },
     "user_tz": -330
    },
    "id": "zedNspycTPKg"
   },
   "outputs": [],
   "source": [
    "cce = tf.keras.losses.CategoricalCrossentropy()"
   ]
  },
  {
   "cell_type": "code",
   "execution_count": 15,
   "metadata": {
    "colab": {
     "base_uri": "https://localhost:8080/",
     "height": 34
    },
    "colab_type": "code",
    "executionInfo": {
     "elapsed": 1076,
     "status": "ok",
     "timestamp": 1600331905386,
     "user": {
      "displayName": "Harika Samala",
      "photoUrl": "https://lh3.googleusercontent.com/a-/AOh14Gj1jICdaGVutFZSBFl6jI1NWgFsvHfUK3H1rvb-xQ=s64",
      "userId": "09750795426681138252"
     },
     "user_tz": -330
    },
    "id": "e6g0_JrSTTdw",
    "outputId": "aff8156a-b05f-4511-f067-583e512c48fb"
   },
   "outputs": [
    {
     "data": {
      "text/plain": [
       "0.15345281"
      ]
     },
     "execution_count": 15,
     "metadata": {},
     "output_type": "execute_result"
    }
   ],
   "source": [
    "cce(y_hat, output).numpy()"
   ]
  },
  {
   "cell_type": "code",
   "execution_count": 16,
   "metadata": {
    "colab": {},
    "colab_type": "code",
    "executionInfo": {
     "elapsed": 659,
     "status": "ok",
     "timestamp": 1600331905871,
     "user": {
      "displayName": "Harika Samala",
      "photoUrl": "https://lh3.googleusercontent.com/a-/AOh14Gj1jICdaGVutFZSBFl6jI1NWgFsvHfUK3H1rvb-xQ=s64",
      "userId": "09750795426681138252"
     },
     "user_tz": -330
    },
    "id": "z26WIW87TgKT"
   },
   "outputs": [],
   "source": [
    "mse = tf.keras.losses.MeanSquaredError(reduction=tf.keras.losses.Reduction.SUM)"
   ]
  },
  {
   "cell_type": "code",
   "execution_count": 17,
   "metadata": {
    "colab": {
     "base_uri": "https://localhost:8080/",
     "height": 34
    },
    "colab_type": "code",
    "executionInfo": {
     "elapsed": 673,
     "status": "ok",
     "timestamp": 1600331906656,
     "user": {
      "displayName": "Harika Samala",
      "photoUrl": "https://lh3.googleusercontent.com/a-/AOh14Gj1jICdaGVutFZSBFl6jI1NWgFsvHfUK3H1rvb-xQ=s64",
      "userId": "09750795426681138252"
     },
     "user_tz": -330
    },
    "id": "sg-9uTlcUhCq",
    "outputId": "6aa9a945-518c-475a-a910-f0e864c932e7"
   },
   "outputs": [
    {
     "data": {
      "text/plain": [
       "51.03883"
      ]
     },
     "execution_count": 17,
     "metadata": {},
     "output_type": "execute_result"
    }
   ],
   "source": [
    "mse(output, y_hat).numpy()"
   ]
  },
  {
   "cell_type": "code",
   "execution_count": 18,
   "metadata": {
    "colab": {
     "base_uri": "https://localhost:8080/",
     "height": 34
    },
    "colab_type": "code",
    "executionInfo": {
     "elapsed": 1013,
     "status": "ok",
     "timestamp": 1600331909908,
     "user": {
      "displayName": "Harika Samala",
      "photoUrl": "https://lh3.googleusercontent.com/a-/AOh14Gj1jICdaGVutFZSBFl6jI1NWgFsvHfUK3H1rvb-xQ=s64",
      "userId": "09750795426681138252"
     },
     "user_tz": -330
    },
    "id": "4p_bF0b5bKpD",
    "outputId": "4da347ac-77aa-41bd-8e6e-c93e410c113e"
   },
   "outputs": [
    {
     "data": {
      "text/plain": [
       "<tf.Tensor: shape=(), dtype=float32, numpy=0.76852477>"
      ]
     },
     "execution_count": 18,
     "metadata": {},
     "output_type": "execute_result"
    }
   ],
   "source": [
    "tf.nn.sigmoid((1*0.3) + (1*0.4) +(0*0.5) +(0*0.5)+0.5)"
   ]
  },
  {
   "cell_type": "code",
   "execution_count": 19,
   "metadata": {
    "colab": {},
    "colab_type": "code",
    "executionInfo": {
     "elapsed": 919,
     "status": "ok",
     "timestamp": 1600331910917,
     "user": {
      "displayName": "Harika Samala",
      "photoUrl": "https://lh3.googleusercontent.com/a-/AOh14Gj1jICdaGVutFZSBFl6jI1NWgFsvHfUK3H1rvb-xQ=s64",
      "userId": "09750795426681138252"
     },
     "user_tz": -330
    },
    "id": "MCXrrXLy4kDl"
   },
   "outputs": [],
   "source": [
    "output=tf.Variable([[1.0,0.0]])"
   ]
  },
  {
   "cell_type": "code",
   "execution_count": 20,
   "metadata": {
    "colab": {},
    "colab_type": "code",
    "executionInfo": {
     "elapsed": 760,
     "status": "ok",
     "timestamp": 1600331911885,
     "user": {
      "displayName": "Harika Samala",
      "photoUrl": "https://lh3.googleusercontent.com/a-/AOh14Gj1jICdaGVutFZSBFl6jI1NWgFsvHfUK3H1rvb-xQ=s64",
      "userId": "09750795426681138252"
     },
     "user_tz": -330
    },
    "id": "qeVczyx84riG"
   },
   "outputs": [],
   "source": [
    "y_hat=tf.Variable([[0.8037,0.1097]])"
   ]
  },
  {
   "cell_type": "code",
   "execution_count": 21,
   "metadata": {
    "colab": {
     "base_uri": "https://localhost:8080/",
     "height": 34
    },
    "colab_type": "code",
    "executionInfo": {
     "elapsed": 676,
     "status": "ok",
     "timestamp": 1600331912457,
     "user": {
      "displayName": "Harika Samala",
      "photoUrl": "https://lh3.googleusercontent.com/a-/AOh14Gj1jICdaGVutFZSBFl6jI1NWgFsvHfUK3H1rvb-xQ=s64",
      "userId": "09750795426681138252"
     },
     "user_tz": -330
    },
    "id": "jQwDwBMRbkgu",
    "outputId": "1788342f-e523-4faf-bf33-5a94611694a2"
   },
   "outputs": [
    {
     "data": {
      "text/plain": [
       "0.025283895"
      ]
     },
     "execution_count": 21,
     "metadata": {},
     "output_type": "execute_result"
    }
   ],
   "source": [
    "mse = tf.keras.losses.MeanSquaredError()\n",
    "mse(output, y_hat).numpy()"
   ]
  },
  {
   "cell_type": "code",
   "execution_count": null,
   "metadata": {
    "colab": {},
    "colab_type": "code",
    "id": "EoPsV6TeNxZO"
   },
   "outputs": [],
   "source": [
    "tf.keras."
   ]
  }
 ],
 "metadata": {
  "colab": {
   "authorship_tag": "ABX9TyM6z/9D8D6zRtHbW804A/kP",
   "mount_file_id": "1WkQgF1haLSpFDuwSfyiXD5IVLmReSrRn",
   "name": "simple_feed_forward_andloss.ipynb",
   "provenance": [
    {
     "file_id": "1WkQgF1haLSpFDuwSfyiXD5IVLmReSrRn",
     "timestamp": 1600331828512
    }
   ],
   "toc_visible": true
  },
  "hide_input": false,
  "kernelspec": {
   "display_name": "Python 3",
   "language": "python",
   "name": "python3"
  },
  "language_info": {
   "codemirror_mode": {
    "name": "ipython",
    "version": 3
   },
   "file_extension": ".py",
   "mimetype": "text/x-python",
   "name": "python",
   "nbconvert_exporter": "python",
   "pygments_lexer": "ipython3",
   "version": "3.7.6"
  }
 },
 "nbformat": 4,
 "nbformat_minor": 1
}
