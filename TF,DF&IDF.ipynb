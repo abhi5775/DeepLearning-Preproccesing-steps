{
 "cells": [
  {
   "cell_type": "code",
   "execution_count": 49,
   "metadata": {
    "ExecuteTime": {
     "end_time": "2020-09-21T09:49:12.000434Z",
     "start_time": "2020-09-21T09:49:11.912206Z"
    }
   },
   "outputs": [],
   "source": [
    "import pandas as pd"
   ]
  },
  {
   "cell_type": "code",
   "execution_count": 50,
   "metadata": {
    "ExecuteTime": {
     "end_time": "2020-09-21T09:49:12.305992Z",
     "start_time": "2020-09-21T09:49:12.298895Z"
    }
   },
   "outputs": [],
   "source": [
    "from sklearn.feature_extraction.text import CountVectorizer"
   ]
  },
  {
   "cell_type": "markdown",
   "metadata": {
    "ExecuteTime": {
     "end_time": "2020-09-20T10:42:44.681768Z",
     "start_time": "2020-09-20T10:42:44.630473Z"
    }
   },
   "source": [
    "### df(t)=occurance of particular term(t) in documents # df(t) is doc frequency "
   ]
  },
  {
   "cell_type": "code",
   "execution_count": 51,
   "metadata": {
    "ExecuteTime": {
     "end_time": "2020-09-21T09:49:13.698629Z",
     "start_time": "2020-09-21T09:49:13.691967Z"
    }
   },
   "outputs": [],
   "source": [
    "docs=[\"The quick brown fox fox fox fox jumped is over the lazy dog\"]"
   ]
  },
  {
   "cell_type": "code",
   "execution_count": 52,
   "metadata": {
    "ExecuteTime": {
     "end_time": "2020-09-21T09:49:14.219026Z",
     "start_time": "2020-09-21T09:49:14.212353Z"
    }
   },
   "outputs": [],
   "source": [
    "vectorizer=CountVectorizer()"
   ]
  },
  {
   "cell_type": "code",
   "execution_count": 53,
   "metadata": {
    "ExecuteTime": {
     "end_time": "2020-09-21T09:49:14.811023Z",
     "start_time": "2020-09-21T09:49:14.766351Z"
    }
   },
   "outputs": [
    {
     "data": {
      "text/plain": [
       "CountVectorizer()"
      ]
     },
     "execution_count": 53,
     "metadata": {},
     "output_type": "execute_result"
    }
   ],
   "source": [
    "vectorizer.fit(docs)"
   ]
  },
  {
   "cell_type": "code",
   "execution_count": 54,
   "metadata": {
    "ExecuteTime": {
     "end_time": "2020-09-21T09:49:16.024513Z",
     "start_time": "2020-09-21T09:49:16.009387Z"
    }
   },
   "outputs": [
    {
     "name": "stdout",
     "output_type": "stream",
     "text": [
      "{'the': 8, 'quick': 7, 'brown': 0, 'fox': 2, 'jumped': 4, 'is': 3, 'over': 6, 'lazy': 5, 'dog': 1}\n"
     ]
    }
   ],
   "source": [
    "print(vectorizer.vocabulary_)"
   ]
  },
  {
   "cell_type": "code",
   "execution_count": 55,
   "metadata": {
    "ExecuteTime": {
     "end_time": "2020-09-21T09:49:19.834818Z",
     "start_time": "2020-09-21T09:49:19.821963Z"
    }
   },
   "outputs": [],
   "source": [
    "vect=vectorizer.transform(docs)"
   ]
  },
  {
   "cell_type": "code",
   "execution_count": 56,
   "metadata": {
    "ExecuteTime": {
     "end_time": "2020-09-21T09:49:21.508238Z",
     "start_time": "2020-09-21T09:49:21.193281Z"
    }
   },
   "outputs": [
    {
     "data": {
      "text/plain": [
       "array([[1, 1, 4, 1, 1, 1, 1, 1, 2]], dtype=int64)"
      ]
     },
     "execution_count": 56,
     "metadata": {},
     "output_type": "execute_result"
    }
   ],
   "source": [
    "vect.toarray()"
   ]
  },
  {
   "cell_type": "markdown",
   "metadata": {},
   "source": [
    "## Term frequency(TF) :-- this summarizes how often a given word appers within a document.\n",
    "\n",
    "## Inverse Document Frequency(IDF) :---- this downscales word that appears a lot across documents.\n",
    "\n",
    "## Doc frequency(DF)"
   ]
  },
  {
   "cell_type": "markdown",
   "metadata": {
    "ExecuteTime": {
     "end_time": "2020-09-20T11:26:57.417225Z",
     "start_time": "2020-09-20T11:26:57.403787Z"
    }
   },
   "source": [
    "### df(t)=occurance of particular term(t) in documents\n",
    "### tf(t,d)=count of t in d/number of words in d\n",
    "\n",
    "\n",
    "### idf(t)=log(N/df+1)\n",
    "### N= num of documents\n",
    "### df+1=document of freuency+1\n",
    "\n",
    "### tfidf=tf*idf"
   ]
  },
  {
   "cell_type": "code",
   "execution_count": 33,
   "metadata": {
    "ExecuteTime": {
     "end_time": "2020-09-20T11:32:07.523422Z",
     "start_time": "2020-09-20T11:32:07.506902Z"
    }
   },
   "outputs": [],
   "source": [
    "from sklearn.feature_extraction.text import TfidfTransformer\n",
    "\n",
    "# we will compute the word counts and then idf and compute the tfidf scores"
   ]
  },
  {
   "cell_type": "code",
   "execution_count": 32,
   "metadata": {
    "ExecuteTime": {
     "end_time": "2020-09-20T11:32:04.000611Z",
     "start_time": "2020-09-20T11:32:03.994383Z"
    }
   },
   "outputs": [],
   "source": [
    "from sklearn.feature_extraction.text import TfidfVectorizer\n",
    "\n",
    "# it will compute word counts,idf,scores all using the same dataset\n"
   ]
  },
  {
   "cell_type": "code",
   "execution_count": 35,
   "metadata": {
    "ExecuteTime": {
     "end_time": "2020-09-21T05:01:18.682107Z",
     "start_time": "2020-09-21T05:01:18.677362Z"
    }
   },
   "outputs": [],
   "source": []
  },
  {
   "cell_type": "code",
   "execution_count": null,
   "metadata": {},
   "outputs": [],
   "source": []
  }
 ],
 "metadata": {
  "hide_input": false,
  "kernelspec": {
   "display_name": "Python 3",
   "language": "python",
   "name": "python3"
  },
  "language_info": {
   "codemirror_mode": {
    "name": "ipython",
    "version": 3
   },
   "file_extension": ".py",
   "mimetype": "text/x-python",
   "name": "python",
   "nbconvert_exporter": "python",
   "pygments_lexer": "ipython3",
   "version": "3.7.6"
  }
 },
 "nbformat": 4,
 "nbformat_minor": 4
}
