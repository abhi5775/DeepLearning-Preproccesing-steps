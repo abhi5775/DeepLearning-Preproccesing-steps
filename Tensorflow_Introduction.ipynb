{
 "cells": [
  {
   "cell_type": "code",
   "execution_count": 1,
   "metadata": {
    "colab": {},
    "colab_type": "code",
    "executionInfo": {
     "elapsed": 2347,
     "status": "ok",
     "timestamp": 1600140291774,
     "user": {
      "displayName": "Harika Samala",
      "photoUrl": "https://lh3.googleusercontent.com/a-/AOh14Gj1jICdaGVutFZSBFl6jI1NWgFsvHfUK3H1rvb-xQ=s64",
      "userId": "09750795426681138252"
     },
     "user_tz": -330
    },
    "id": "KD4ADjLmI_7-"
   },
   "outputs": [],
   "source": [
    "import tensorflow as tf\n",
    "from termcolor import colored"
   ]
  },
  {
   "cell_type": "code",
   "execution_count": 2,
   "metadata": {
    "colab": {
     "base_uri": "https://localhost:8080/",
     "height": 34
    },
    "colab_type": "code",
    "executionInfo": {
     "elapsed": 2326,
     "status": "ok",
     "timestamp": 1600140295042,
     "user": {
      "displayName": "Harika Samala",
      "photoUrl": "https://lh3.googleusercontent.com/a-/AOh14Gj1jICdaGVutFZSBFl6jI1NWgFsvHfUK3H1rvb-xQ=s64",
      "userId": "09750795426681138252"
     },
     "user_tz": -330
    },
    "id": "IINFfT_pJLAG",
    "outputId": "488c6d5d-7323-42cd-81dc-39e8090fcb75"
   },
   "outputs": [
    {
     "name": "stdout",
     "output_type": "stream",
     "text": [
      "Your TensorFlow version: 2.3.0\n"
     ]
    }
   ],
   "source": [
    "print(('Your TensorFlow version: {0}').format(tf.__version__))"
   ]
  },
  {
   "cell_type": "markdown",
   "metadata": {
    "colab_type": "text",
    "id": "vfw0ziP8_Dq5"
   },
   "source": [
    "# **Using GPU  and CPU IN tensorflow**"
   ]
  },
  {
   "cell_type": "code",
   "execution_count": 3,
   "metadata": {
    "cellView": "both",
    "colab": {
     "base_uri": "https://localhost:8080/",
     "height": 187
    },
    "colab_type": "code",
    "executionInfo": {
     "elapsed": 1429,
     "status": "ok",
     "timestamp": 1600093355087,
     "user": {
      "displayName": "Harika Samala",
      "photoUrl": "https://lh3.googleusercontent.com/a-/AOh14Gj1jICdaGVutFZSBFl6jI1NWgFsvHfUK3H1rvb-xQ=s64",
      "userId": "09750795426681138252"
     },
     "user_tz": -330
    },
    "id": "-RuRJ7Ku9EYr",
    "outputId": "81dad336-7580-4738-986d-2be315e3796f"
   },
   "outputs": [
    {
     "name": "stdout",
     "output_type": "stream",
     "text": [
      "tf.Tensor(\n",
      "[[ 6  4]\n",
      " [10  4]], shape=(2, 2), dtype=int32)\n",
      " using cpu 0.34428906440734863\n",
      "\n",
      "\n",
      "tf.Tensor(\n",
      "[[ 6  4]\n",
      " [10  4]], shape=(2, 2), dtype=int32)\n",
      "using Gpu 0.0009586811065673828\n"
     ]
    }
   ],
   "source": [
    "\n",
    "import time\n",
    "\n",
    "cpu_slot = 0\n",
    "gpu_slot = 0\n",
    "\n",
    "# Using CPU at slot 0\n",
    "with tf.device('/CPU:' + str(cpu_slot)):\n",
    "    # Starting a timer\n",
    "    start = time.time()\n",
    "\n",
    "    # Doing operations on CPU\n",
    "    A = tf.constant([[3, 2], [5, 2]])\n",
    "    B= tf.constant([[3, 2], [5, 2]])\n",
    "    print(A+B)\n",
    "\n",
    "    # Printing how long it took with CPU\n",
    "    end = time.time() - start\n",
    "    print(\" using cpu\",end)\n",
    "    print(\"\\n\")\n",
    "\n",
    "# Using the GPU at slot 0\n",
    "with tf.device('/GPU:' + str(gpu_slot)):\n",
    "    # Starting a timer\n",
    "    start = time.time()\n",
    "\n",
    "    # Doing operations on CPU\n",
    "    A = tf.constant([[3, 2], [5, 2]])\n",
    "    B= tf.constant([[3, 2], [5, 2]])\n",
    "    print(A+B)\n",
    "\n",
    "    # Printing how long it took with CPU\n",
    "    end = time.time() - start\n",
    "    print(\"using Gpu\",end)"
   ]
  },
  {
   "cell_type": "markdown",
   "metadata": {
    "colab_type": "text",
    "id": "kDwfqWYnEeWl"
   },
   "source": [
    "TensorFlow programs use a data structure called tensor to represent all the data. Any type of data you plan to use for your model can be stored in Tensors. Simply put, a Tensor is a multi-dimensional array (0-D tensor: scalar, 1-D tensor: vector, 2-D tensor: matrix, and so on). Hence, TensorFlow is simply referring to the flow of the Tensors in the computational graph."
   ]
  },
  {
   "cell_type": "markdown",
   "metadata": {
    "colab_type": "text",
    "id": "sA4BgjzBJfvI"
   },
   "source": [
    "\n",
    "Tensor is multi dimensional array\n",
    "\n",
    "A scalar is rank_0_tensor\n",
    "\n",
    "A vector is rank_1_tensor\n",
    "\n",
    "A matrix is rank_2_tensor \n"
   ]
  },
  {
   "cell_type": "markdown",
   "metadata": {
    "colab_type": "text",
    "id": "EGiN3v-xQqQR"
   },
   "source": [
    "**Scalar**"
   ]
  },
  {
   "cell_type": "code",
   "execution_count": 4,
   "metadata": {
    "colab": {
     "base_uri": "https://localhost:8080/",
     "height": 34
    },
    "colab_type": "code",
    "executionInfo": {
     "elapsed": 1123,
     "status": "ok",
     "timestamp": 1600141264732,
     "user": {
      "displayName": "Harika Samala",
      "photoUrl": "https://lh3.googleusercontent.com/a-/AOh14Gj1jICdaGVutFZSBFl6jI1NWgFsvHfUK3H1rvb-xQ=s64",
      "userId": "09750795426681138252"
     },
     "user_tz": -330
    },
    "id": "Tdd0BzUmOu74",
    "outputId": "e6242620-dd5f-4fa4-ad63-2b0ee9dcd517"
   },
   "outputs": [
    {
     "name": "stdout",
     "output_type": "stream",
     "text": [
      "tf.Tensor(3.0, shape=(), dtype=float32)\n"
     ]
    }
   ],
   "source": [
    "x=tf.constant(3.0)\n",
    "print(x)"
   ]
  },
  {
   "cell_type": "markdown",
   "metadata": {
    "colab_type": "text",
    "id": "__qUgvPBQs-0"
   },
   "source": [
    "**Vector**"
   ]
  },
  {
   "cell_type": "code",
   "execution_count": 5,
   "metadata": {
    "colab": {
     "base_uri": "https://localhost:8080/",
     "height": 34
    },
    "colab_type": "code",
    "executionInfo": {
     "elapsed": 1211,
     "status": "ok",
     "timestamp": 1600141323486,
     "user": {
      "displayName": "Harika Samala",
      "photoUrl": "https://lh3.googleusercontent.com/a-/AOh14Gj1jICdaGVutFZSBFl6jI1NWgFsvHfUK3H1rvb-xQ=s64",
      "userId": "09750795426681138252"
     },
     "user_tz": -330
    },
    "id": "fdUyumX-O9JX",
    "outputId": "218aed54-15b3-466c-91d0-05bf4e801d73"
   },
   "outputs": [
    {
     "name": "stdout",
     "output_type": "stream",
     "text": [
      "tf.Tensor([3 5 7], shape=(3,), dtype=int32)\n"
     ]
    }
   ],
   "source": [
    "x=tf.constant([3,5,7])\n",
    "print(x)"
   ]
  },
  {
   "cell_type": "markdown",
   "metadata": {
    "colab_type": "text",
    "id": "mZJhpi73Qwss"
   },
   "source": [
    "**Matrix**"
   ]
  },
  {
   "cell_type": "code",
   "execution_count": 6,
   "metadata": {
    "colab": {
     "base_uri": "https://localhost:8080/",
     "height": 68
    },
    "colab_type": "code",
    "executionInfo": {
     "elapsed": 1143,
     "status": "ok",
     "timestamp": 1600141353365,
     "user": {
      "displayName": "Harika Samala",
      "photoUrl": "https://lh3.googleusercontent.com/a-/AOh14Gj1jICdaGVutFZSBFl6jI1NWgFsvHfUK3H1rvb-xQ=s64",
      "userId": "09750795426681138252"
     },
     "user_tz": -330
    },
    "id": "4J02aVNnPDks",
    "outputId": "287cb153-9d73-4192-f10f-fd406b96beaa"
   },
   "outputs": [
    {
     "name": "stdout",
     "output_type": "stream",
     "text": [
      "tf.Tensor(\n",
      "[[3 5 7]\n",
      " [3 5 7]], shape=(2, 3), dtype=int32)\n"
     ]
    }
   ],
   "source": [
    "x=tf.constant([[3,5,7],[3,5,7]])\n",
    "print(x)"
   ]
  },
  {
   "cell_type": "markdown",
   "metadata": {
    "colab_type": "text",
    "id": "uIWeWhvHQ436"
   },
   "source": [
    "**Tensor**"
   ]
  },
  {
   "cell_type": "code",
   "execution_count": 7,
   "metadata": {
    "colab": {
     "base_uri": "https://localhost:8080/",
     "height": 85
    },
    "colab_type": "code",
    "executionInfo": {
     "elapsed": 1230,
     "status": "ok",
     "timestamp": 1600097548417,
     "user": {
      "displayName": "Harika Samala",
      "photoUrl": "https://lh3.googleusercontent.com/a-/AOh14Gj1jICdaGVutFZSBFl6jI1NWgFsvHfUK3H1rvb-xQ=s64",
      "userId": "09750795426681138252"
     },
     "user_tz": -330
    },
    "id": "w6R1DijjPq2N",
    "outputId": "d5e7c68c-e67c-43e2-f0ac-276d7cf1047a"
   },
   "outputs": [
    {
     "name": "stdout",
     "output_type": "stream",
     "text": [
      "tf.Tensor(\n",
      "[[3 5 7]\n",
      " [3 5 7]\n",
      " [3 5 7]], shape=(3, 3), dtype=int32)\n"
     ]
    }
   ],
   "source": [
    "x=tf.constant([[3,5,7],[3,5,7],[3,5,7]])\n",
    "print(x)"
   ]
  },
  {
   "cell_type": "markdown",
   "metadata": {
    "colab_type": "text",
    "id": "iuiLKhcZOvjb"
   },
   "source": [
    "**Stacking**"
   ]
  },
  {
   "cell_type": "code",
   "execution_count": 8,
   "metadata": {
    "colab": {
     "base_uri": "https://localhost:8080/",
     "height": 34
    },
    "colab_type": "code",
    "executionInfo": {
     "elapsed": 1063,
     "status": "ok",
     "timestamp": 1600141435017,
     "user": {
      "displayName": "Harika Samala",
      "photoUrl": "https://lh3.googleusercontent.com/a-/AOh14Gj1jICdaGVutFZSBFl6jI1NWgFsvHfUK3H1rvb-xQ=s64",
      "userId": "09750795426681138252"
     },
     "user_tz": -330
    },
    "id": "GFRvEaL9P5gT",
    "outputId": "6ecec8a5-c451-44d0-a46a-2a21905d0c4c"
   },
   "outputs": [
    {
     "name": "stdout",
     "output_type": "stream",
     "text": [
      "tf.Tensor(3, shape=(), dtype=int32)\n"
     ]
    }
   ],
   "source": [
    "a=tf.constant(3)\n",
    "print(a)"
   ]
  },
  {
   "cell_type": "code",
   "execution_count": 9,
   "metadata": {
    "colab": {
     "base_uri": "https://localhost:8080/",
     "height": 34
    },
    "colab_type": "code",
    "executionInfo": {
     "elapsed": 1047,
     "status": "ok",
     "timestamp": 1600141438254,
     "user": {
      "displayName": "Harika Samala",
      "photoUrl": "https://lh3.googleusercontent.com/a-/AOh14Gj1jICdaGVutFZSBFl6jI1NWgFsvHfUK3H1rvb-xQ=s64",
      "userId": "09750795426681138252"
     },
     "user_tz": -330
    },
    "id": "Fnfcb4YlP337",
    "outputId": "45bc6841-89a1-4bf8-f615-7a246ffba64f"
   },
   "outputs": [
    {
     "name": "stdout",
     "output_type": "stream",
     "text": [
      "tf.Tensor([3 3], shape=(2,), dtype=int32)\n"
     ]
    }
   ],
   "source": [
    "b=tf.stack([a,a])\n",
    "print(b)"
   ]
  },
  {
   "cell_type": "code",
   "execution_count": 10,
   "metadata": {
    "colab": {
     "base_uri": "https://localhost:8080/",
     "height": 68
    },
    "colab_type": "code",
    "executionInfo": {
     "elapsed": 1092,
     "status": "ok",
     "timestamp": 1600141458862,
     "user": {
      "displayName": "Harika Samala",
      "photoUrl": "https://lh3.googleusercontent.com/a-/AOh14Gj1jICdaGVutFZSBFl6jI1NWgFsvHfUK3H1rvb-xQ=s64",
      "userId": "09750795426681138252"
     },
     "user_tz": -330
    },
    "id": "225WuzPoQZkQ",
    "outputId": "6e8f5e93-43f2-487b-8d89-49556fa3ed85"
   },
   "outputs": [
    {
     "name": "stdout",
     "output_type": "stream",
     "text": [
      "tf.Tensor(\n",
      "[[3 3]\n",
      " [3 3]], shape=(2, 2), dtype=int32)\n"
     ]
    }
   ],
   "source": [
    "c=tf.stack([b,b])\n",
    "print(c)"
   ]
  },
  {
   "cell_type": "markdown",
   "metadata": {
    "colab_type": "text",
    "id": "LFK5ZjAvQ_aO"
   },
   "source": [
    "**Slicing**"
   ]
  },
  {
   "cell_type": "code",
   "execution_count": 11,
   "metadata": {
    "colab": {
     "base_uri": "https://localhost:8080/",
     "height": 68
    },
    "colab_type": "code",
    "executionInfo": {
     "elapsed": 1048,
     "status": "ok",
     "timestamp": 1600141496130,
     "user": {
      "displayName": "Harika Samala",
      "photoUrl": "https://lh3.googleusercontent.com/a-/AOh14Gj1jICdaGVutFZSBFl6jI1NWgFsvHfUK3H1rvb-xQ=s64",
      "userId": "09750795426681138252"
     },
     "user_tz": -330
    },
    "id": "oZhUUE0hREBN",
    "outputId": "5f432a1e-09e7-427d-fcd2-3f621bafbcf9"
   },
   "outputs": [
    {
     "name": "stdout",
     "output_type": "stream",
     "text": [
      "tf.Tensor(\n",
      "[[1 2 3]\n",
      " [4 5 6]], shape=(2, 3), dtype=int32)\n"
     ]
    }
   ],
   "source": [
    "a=tf.constant([[1,2,3],[4,5,6]])\n",
    "print(a)"
   ]
  },
  {
   "cell_type": "code",
   "execution_count": 12,
   "metadata": {
    "colab": {
     "base_uri": "https://localhost:8080/",
     "height": 34
    },
    "colab_type": "code",
    "executionInfo": {
     "elapsed": 1135,
     "status": "ok",
     "timestamp": 1600141509404,
     "user": {
      "displayName": "Harika Samala",
      "photoUrl": "https://lh3.googleusercontent.com/a-/AOh14Gj1jICdaGVutFZSBFl6jI1NWgFsvHfUK3H1rvb-xQ=s64",
      "userId": "09750795426681138252"
     },
     "user_tz": -330
    },
    "id": "6tm3Iw_uS6oO",
    "outputId": "6933657d-2c0d-45da-d8b1-793424549dcd"
   },
   "outputs": [
    {
     "name": "stdout",
     "output_type": "stream",
     "text": [
      "tf.Tensor([2 5], shape=(2,), dtype=int32)\n"
     ]
    }
   ],
   "source": [
    "sliced_a=a[:,1]\n",
    "print(sliced_a)"
   ]
  },
  {
   "cell_type": "code",
   "execution_count": 13,
   "metadata": {
    "colab": {
     "base_uri": "https://localhost:8080/",
     "height": 34
    },
    "colab_type": "code",
    "executionInfo": {
     "elapsed": 1071,
     "status": "ok",
     "timestamp": 1600141531976,
     "user": {
      "displayName": "Harika Samala",
      "photoUrl": "https://lh3.googleusercontent.com/a-/AOh14Gj1jICdaGVutFZSBFl6jI1NWgFsvHfUK3H1rvb-xQ=s64",
      "userId": "09750795426681138252"
     },
     "user_tz": -330
    },
    "id": "4KaO3ECjTVgy",
    "outputId": "025c8bbd-e3dd-4ccf-fd05-3111fae5fcf0"
   },
   "outputs": [
    {
     "name": "stdout",
     "output_type": "stream",
     "text": [
      "tf.Tensor([4 5 6], shape=(3,), dtype=int32)\n"
     ]
    }
   ],
   "source": [
    "sliced_b=a[1,:]\n",
    "print(sliced_b)"
   ]
  },
  {
   "cell_type": "markdown",
   "metadata": {
    "colab_type": "text",
    "id": "QwrnGF_eTc1o"
   },
   "source": [
    "**Reshaping**"
   ]
  },
  {
   "cell_type": "code",
   "execution_count": 14,
   "metadata": {
    "colab": {
     "base_uri": "https://localhost:8080/",
     "height": 85
    },
    "colab_type": "code",
    "executionInfo": {
     "elapsed": 1158,
     "status": "ok",
     "timestamp": 1600098595810,
     "user": {
      "displayName": "Harika Samala",
      "photoUrl": "https://lh3.googleusercontent.com/a-/AOh14Gj1jICdaGVutFZSBFl6jI1NWgFsvHfUK3H1rvb-xQ=s64",
      "userId": "09750795426681138252"
     },
     "user_tz": -330
    },
    "id": "4m9kcioCTi3S",
    "outputId": "6474be56-6cc7-4373-a5f3-0b0040dfbd41"
   },
   "outputs": [
    {
     "name": "stdout",
     "output_type": "stream",
     "text": [
      "tf.Tensor(\n",
      "[[1 2]\n",
      " [3 4]\n",
      " [5 6]], shape=(3, 2), dtype=int32)\n"
     ]
    }
   ],
   "source": [
    "reshaped_a=tf.reshape(a,[3,2])\n",
    "print(reshaped_a)"
   ]
  },
  {
   "cell_type": "markdown",
   "metadata": {
    "colab_type": "text",
    "id": "K4LAMo-9T9Kn"
   },
   "source": [
    "**Variable**"
   ]
  },
  {
   "cell_type": "code",
   "execution_count": 15,
   "metadata": {
    "colab": {
     "base_uri": "https://localhost:8080/",
     "height": 34
    },
    "colab_type": "code",
    "executionInfo": {
     "elapsed": 762,
     "status": "ok",
     "timestamp": 1600141928378,
     "user": {
      "displayName": "Harika Samala",
      "photoUrl": "https://lh3.googleusercontent.com/a-/AOh14Gj1jICdaGVutFZSBFl6jI1NWgFsvHfUK3H1rvb-xQ=s64",
      "userId": "09750795426681138252"
     },
     "user_tz": -330
    },
    "id": "htw4rx0bUARx",
    "outputId": "85901a84-c2de-4dd7-ec8a-6f5770d4dcb1"
   },
   "outputs": [
    {
     "name": "stdout",
     "output_type": "stream",
     "text": [
      "<tf.Variable 'var:0' shape=(2,) dtype=int32, numpy=array([2, 3])>\n"
     ]
    }
   ],
   "source": [
    "var=tf.Variable([2,3],dtype=tf.int32,name='var')\n",
    "print(var)"
   ]
  },
  {
   "cell_type": "code",
   "execution_count": 16,
   "metadata": {
    "colab": {
     "base_uri": "https://localhost:8080/",
     "height": 88
    },
    "colab_type": "code",
    "executionInfo": {
     "elapsed": 1416,
     "status": "ok",
     "timestamp": 1600141901702,
     "user": {
      "displayName": "Harika Samala",
      "photoUrl": "https://lh3.googleusercontent.com/a-/AOh14Gj1jICdaGVutFZSBFl6jI1NWgFsvHfUK3H1rvb-xQ=s64",
      "userId": "09750795426681138252"
     },
     "user_tz": -330
    },
    "id": "7Rey_aPNVeCu",
    "outputId": "92c267c9-7dbe-45e9-b585-ab597cb4c470"
   },
   "outputs": [
    {
     "name": "stdout",
     "output_type": "stream",
     "text": [
      "Shape:  (2,)\n",
      "DType:  <dtype: 'int32'>\n",
      "As NumPy:  <bound method BaseResourceVariable.numpy of <tf.Variable 'var:0' shape=(2,) dtype=int32, numpy=array([2, 3])>>\n"
     ]
    }
   ],
   "source": [
    "print(\"Shape: \",var.shape)\n",
    "print(\"DType: \",var.dtype)\n",
    "print(\"As NumPy: \",var.numpy)"
   ]
  },
  {
   "cell_type": "code",
   "execution_count": 17,
   "metadata": {
    "colab": {
     "base_uri": "https://localhost:8080/",
     "height": 34
    },
    "colab_type": "code",
    "executionInfo": {
     "elapsed": 1050,
     "status": "ok",
     "timestamp": 1600141956061,
     "user": {
      "displayName": "Harika Samala",
      "photoUrl": "https://lh3.googleusercontent.com/a-/AOh14Gj1jICdaGVutFZSBFl6jI1NWgFsvHfUK3H1rvb-xQ=s64",
      "userId": "09750795426681138252"
     },
     "user_tz": -330
    },
    "id": "sEwTH9VIUjHK",
    "outputId": "da3806ae-c39c-4e84-ce23-eba7dd1dd2c7"
   },
   "outputs": [
    {
     "name": "stdout",
     "output_type": "stream",
     "text": [
      "<tf.Variable 'UnreadVariable' shape=(2,) dtype=int32, numpy=array([5, 7])>\n"
     ]
    }
   ],
   "source": [
    "var_add=var.assign_add([3,4])\n",
    "print(var_add)"
   ]
  },
  {
   "cell_type": "code",
   "execution_count": 18,
   "metadata": {
    "colab": {
     "base_uri": "https://localhost:8080/",
     "height": 34
    },
    "colab_type": "code",
    "executionInfo": {
     "elapsed": 1294,
     "status": "ok",
     "timestamp": 1600141965891,
     "user": {
      "displayName": "Harika Samala",
      "photoUrl": "https://lh3.googleusercontent.com/a-/AOh14Gj1jICdaGVutFZSBFl6jI1NWgFsvHfUK3H1rvb-xQ=s64",
      "userId": "09750795426681138252"
     },
     "user_tz": -330
    },
    "id": "pEzFupGbU8ab",
    "outputId": "3740b3d1-dde4-405a-830e-a40711d9cb3c"
   },
   "outputs": [
    {
     "name": "stdout",
     "output_type": "stream",
     "text": [
      "<tf.Variable 'UnreadVariable' shape=(2,) dtype=int32, numpy=array([4, 6])>\n"
     ]
    }
   ],
   "source": [
    "var_sub=var_add.assign_sub([1,1])\n",
    "print(var_sub)"
   ]
  },
  {
   "cell_type": "markdown",
   "metadata": {
    "colab_type": "text",
    "id": "YEai45QEPFFv"
   },
   "source": [
    "**Operations**"
   ]
  },
  {
   "cell_type": "code",
   "execution_count": 19,
   "metadata": {
    "colab": {
     "base_uri": "https://localhost:8080/",
     "height": 323
    },
    "colab_type": "code",
    "executionInfo": {
     "elapsed": 1044,
     "status": "ok",
     "timestamp": 1600142014902,
     "user": {
      "displayName": "Harika Samala",
      "photoUrl": "https://lh3.googleusercontent.com/a-/AOh14Gj1jICdaGVutFZSBFl6jI1NWgFsvHfUK3H1rvb-xQ=s64",
      "userId": "09750795426681138252"
     },
     "user_tz": -330
    },
    "id": "PfBCxIK-Km3r",
    "outputId": "824a4038-9483-4f16-9bb6-855450ada8c3"
   },
   "outputs": [
    {
     "name": "stdout",
     "output_type": "stream",
     "text": [
      "tf.Tensor(\n",
      "[[1 2]\n",
      " [3 4]], shape=(2, 2), dtype=int32)\n",
      "tf.Tensor(\n",
      "[[1 2]\n",
      " [3 4]], shape=(2, 2), dtype=int32)\n",
      "\u001b[34mAddition\n",
      "\u001b[0m tf.Tensor(\n",
      "[[2 4]\n",
      " [6 8]], shape=(2, 2), dtype=int32)\n",
      "\u001b[34melement wise multiplication\n",
      "\u001b[0m tf.Tensor(\n",
      "[[ 1  4]\n",
      " [ 9 16]], shape=(2, 2), dtype=int32)\n",
      "\u001b[34mmatrix multiplication\n",
      "\u001b[0m tf.Tensor(\n",
      "[[ 7 10]\n",
      " [15 22]], shape=(2, 2), dtype=int32)\n"
     ]
    }
   ],
   "source": [
    "a = tf.constant([[1, 2],\n",
    "                 [3, 4]])\n",
    "print(a)\n",
    "\n",
    "b= tf.constant([[1, 2],\n",
    "                 [3, 4]])\n",
    "\n",
    "print(b)\n",
    "\n",
    "print(colored(\"Addition\\n\",\"blue\"),a+b)# all other operations\n",
    "print(colored(\"element wise multiplication\\n\", \"blue\"),a*b) # element-wise multiplication\n",
    "print(colored(\"matrix multiplication\\n\", \"blue\"),a @b ) # matrix multiplication"
   ]
  },
  {
   "cell_type": "markdown",
   "metadata": {
    "colab_type": "text",
    "id": "hqUUfYRMKkL6"
   },
   "source": [
    "Other useful Operations"
   ]
  },
  {
   "cell_type": "markdown",
   "metadata": {
    "colab_type": "text",
    "id": "9p0Ja7Gr5fR0"
   },
   "source": []
  },
  {
   "cell_type": "code",
   "execution_count": 20,
   "metadata": {
    "colab": {
     "base_uri": "https://localhost:8080/",
     "height": 102
    },
    "colab_type": "code",
    "executionInfo": {
     "elapsed": 1395,
     "status": "ok",
     "timestamp": 1600099021410,
     "user": {
      "displayName": "Harika Samala",
      "photoUrl": "https://lh3.googleusercontent.com/a-/AOh14Gj1jICdaGVutFZSBFl6jI1NWgFsvHfUK3H1rvb-xQ=s64",
      "userId": "09750795426681138252"
     },
     "user_tz": -330
    },
    "id": "hzZ8JCC5NIfa",
    "outputId": "7036b0fd-2e72-460d-8932-7d4028ea70fa"
   },
   "outputs": [
    {
     "name": "stdout",
     "output_type": "stream",
     "text": [
      "tf.Tensor(3.0, shape=(), dtype=float32)\n",
      "tf.Tensor([1 0], shape=(2,), dtype=int64)\n",
      "tf.Tensor(\n",
      "[[0.26894143 0.7310586 ]\n",
      " [0.7310586  0.26894143]], shape=(2, 2), dtype=float32)\n"
     ]
    }
   ],
   "source": [
    "c = tf.constant([[1.0, 2.0],\n",
    "                 [3.0, 2.0]])\n",
    "\n",
    "# Find the largest value\n",
    "print(tf.reduce_max(c))\n",
    "# Find the index of the largest value\n",
    "print(tf.argmax(c))\n",
    "# Compute the softmax\n",
    "print(tf.nn.softmax(c))"
   ]
  },
  {
   "cell_type": "markdown",
   "metadata": {
    "colab_type": "text",
    "id": "bCtkle2sRqEZ"
   },
   "source": [
    "**zeros**"
   ]
  },
  {
   "cell_type": "code",
   "execution_count": 21,
   "metadata": {
    "colab": {
     "base_uri": "https://localhost:8080/",
     "height": 85
    },
    "colab_type": "code",
    "executionInfo": {
     "elapsed": 1331,
     "status": "ok",
     "timestamp": 1600142139765,
     "user": {
      "displayName": "Harika Samala",
      "photoUrl": "https://lh3.googleusercontent.com/a-/AOh14Gj1jICdaGVutFZSBFl6jI1NWgFsvHfUK3H1rvb-xQ=s64",
      "userId": "09750795426681138252"
     },
     "user_tz": -330
    },
    "id": "X7WRzV5KRoD2",
    "outputId": "ac36bbbb-afc4-4769-a31c-0f9c2ead7410"
   },
   "outputs": [
    {
     "data": {
      "text/plain": [
       "<tf.Tensor: shape=(3, 3), dtype=int32, numpy=\n",
       "array([[0, 0, 0],\n",
       "       [0, 0, 0],\n",
       "       [0, 0, 0]])>"
      ]
     },
     "execution_count": 21,
     "metadata": {},
     "output_type": "execute_result"
    }
   ],
   "source": [
    "tf.zeros(shape=[3, 3], dtype=tf.int32)"
   ]
  },
  {
   "cell_type": "markdown",
   "metadata": {
    "colab_type": "text",
    "id": "DK0qNB-JR4LE"
   },
   "source": [
    "**ones**"
   ]
  },
  {
   "cell_type": "code",
   "execution_count": 22,
   "metadata": {
    "colab": {
     "base_uri": "https://localhost:8080/",
     "height": 85
    },
    "colab_type": "code",
    "executionInfo": {
     "elapsed": 1201,
     "status": "ok",
     "timestamp": 1600099293483,
     "user": {
      "displayName": "Harika Samala",
      "photoUrl": "https://lh3.googleusercontent.com/a-/AOh14Gj1jICdaGVutFZSBFl6jI1NWgFsvHfUK3H1rvb-xQ=s64",
      "userId": "09750795426681138252"
     },
     "user_tz": -330
    },
    "id": "GAOhQrz5R7kq",
    "outputId": "ef5c2688-5a72-4c7b-fed0-bbc2e0fc74f4"
   },
   "outputs": [
    {
     "data": {
      "text/plain": [
       "<tf.Tensor: shape=(3, 3), dtype=float32, numpy=\n",
       "array([[1., 1., 1.],\n",
       "       [1., 1., 1.],\n",
       "       [1., 1., 1.]], dtype=float32)>"
      ]
     },
     "execution_count": 22,
     "metadata": {},
     "output_type": "execute_result"
    }
   ],
   "source": [
    " tf.ones(shape=[3, 3], dtype=tf.float32)"
   ]
  },
  {
   "cell_type": "markdown",
   "metadata": {
    "colab_type": "text",
    "id": "S6_sgKVuX_P3"
   },
   "source": [
    "**Cast types**"
   ]
  },
  {
   "cell_type": "code",
   "execution_count": 23,
   "metadata": {
    "colab": {},
    "colab_type": "code",
    "executionInfo": {
     "elapsed": 1122,
     "status": "ok",
     "timestamp": 1600142188500,
     "user": {
      "displayName": "Harika Samala",
      "photoUrl": "https://lh3.googleusercontent.com/a-/AOh14Gj1jICdaGVutFZSBFl6jI1NWgFsvHfUK3H1rvb-xQ=s64",
      "userId": "09750795426681138252"
     },
     "user_tz": -330
    },
    "id": "LSvZjtgzX82g"
   },
   "outputs": [],
   "source": [
    "tensor = tf.constant([[3.1, 2.8],\n",
    "                      [5.2, 2.3],\n",
    "                      [9.7, 5.5],\n",
    "                      [1.1, 3.4]], \n",
    "                      dtype=tf.float32)\n",
    "\n",
    "tensor_as_int = tf.cast(tensor, tf.int32)"
   ]
  },
  {
   "cell_type": "markdown",
   "metadata": {
    "colab_type": "text",
    "id": "wY3AYUsgQJ_C"
   },
   "source": [
    "**Function**"
   ]
  },
  {
   "cell_type": "code",
   "execution_count": 24,
   "metadata": {
    "colab": {
     "base_uri": "https://localhost:8080/",
     "height": 34
    },
    "colab_type": "code",
    "executionInfo": {
     "elapsed": 1264,
     "status": "ok",
     "timestamp": 1600142361740,
     "user": {
      "displayName": "Harika Samala",
      "photoUrl": "https://lh3.googleusercontent.com/a-/AOh14Gj1jICdaGVutFZSBFl6jI1NWgFsvHfUK3H1rvb-xQ=s64",
      "userId": "09750795426681138252"
     },
     "user_tz": -330
    },
    "id": "unl8QQmtPjtf",
    "outputId": "0fe2ad18-d37f-4512-9f02-7b8a4ea598ca"
   },
   "outputs": [
    {
     "data": {
      "text/plain": [
       "<tf.Tensor: shape=(1, 1), dtype=float32, numpy=array([[12.]], dtype=float32)>"
      ]
     },
     "execution_count": 24,
     "metadata": {},
     "output_type": "execute_result"
    }
   ],
   "source": [
    "\n",
    "\n",
    "# Define a Python function\n",
    "def function_to_get_faster(x, y, b):\n",
    "  x = tf.matmul(x, y)\n",
    "  x = x + b\n",
    "  return x\n",
    "\n",
    "# Create a `Function` object that contains a graph\n",
    "a_function_that_uses_a_graph = tf.function(function_to_get_faster)\n",
    "\n",
    "# Make some tensors\n",
    "x1 = tf.constant([[1.0, 2.0]])\n",
    "y1 = tf.constant([[2.0], [3.0]])\n",
    "b1 = tf.constant(4.0)\n",
    "\n",
    "# It just works!\n",
    "a_function_that_uses_a_graph(x1, y1, b1)"
   ]
  },
  {
   "cell_type": "code",
   "execution_count": 25,
   "metadata": {
    "colab": {
     "base_uri": "https://localhost:8080/",
     "height": 34
    },
    "colab_type": "code",
    "executionInfo": {
     "elapsed": 1285,
     "status": "ok",
     "timestamp": 1600142369232,
     "user": {
      "displayName": "Harika Samala",
      "photoUrl": "https://lh3.googleusercontent.com/a-/AOh14Gj1jICdaGVutFZSBFl6jI1NWgFsvHfUK3H1rvb-xQ=s64",
      "userId": "09750795426681138252"
     },
     "user_tz": -330
    },
    "id": "Q-jSWdrV6sjy",
    "outputId": "bec2bceb-989c-4f80-b8b9-edc740345412"
   },
   "outputs": [
    {
     "name": "stdout",
     "output_type": "stream",
     "text": [
      "tf.Tensor([[1. 2.]], shape=(1, 2), dtype=float32)\n"
     ]
    }
   ],
   "source": [
    "print(x1)"
   ]
  },
  {
   "cell_type": "code",
   "execution_count": 26,
   "metadata": {
    "colab": {
     "base_uri": "https://localhost:8080/",
     "height": 68
    },
    "colab_type": "code",
    "executionInfo": {
     "elapsed": 1260,
     "status": "ok",
     "timestamp": 1600142379539,
     "user": {
      "displayName": "Harika Samala",
      "photoUrl": "https://lh3.googleusercontent.com/a-/AOh14Gj1jICdaGVutFZSBFl6jI1NWgFsvHfUK3H1rvb-xQ=s64",
      "userId": "09750795426681138252"
     },
     "user_tz": -330
    },
    "id": "xHRT4Fjm6uWl",
    "outputId": "6c695833-9887-43d1-95ae-6d02ba5c76ab"
   },
   "outputs": [
    {
     "name": "stdout",
     "output_type": "stream",
     "text": [
      "tf.Tensor(\n",
      "[[2.]\n",
      " [3.]], shape=(2, 1), dtype=float32)\n"
     ]
    }
   ],
   "source": [
    "print(y1)"
   ]
  },
  {
   "cell_type": "code",
   "execution_count": 27,
   "metadata": {
    "colab": {
     "base_uri": "https://localhost:8080/",
     "height": 34
    },
    "colab_type": "code",
    "executionInfo": {
     "elapsed": 1214,
     "status": "ok",
     "timestamp": 1600142406832,
     "user": {
      "displayName": "Harika Samala",
      "photoUrl": "https://lh3.googleusercontent.com/a-/AOh14Gj1jICdaGVutFZSBFl6jI1NWgFsvHfUK3H1rvb-xQ=s64",
      "userId": "09750795426681138252"
     },
     "user_tz": -330
    },
    "id": "SoWwXTrj6zro",
    "outputId": "385d4349-2f0e-4b65-a9ca-b06f19e5c28a"
   },
   "outputs": [
    {
     "name": "stdout",
     "output_type": "stream",
     "text": [
      "tf.Tensor(4.0, shape=(), dtype=float32)\n"
     ]
    }
   ],
   "source": [
    "print(b1)"
   ]
  },
  {
   "cell_type": "markdown",
   "metadata": {
    "colab_type": "text",
    "id": "hnQ3qP0kTIpO"
   },
   "source": [
    "**Graph**"
   ]
  },
  {
   "cell_type": "markdown",
   "metadata": {
    "colab_type": "text",
    "id": "OX-WPESRTN5p"
   },
   "source": [
    "Graphs are data structures that contain a set of tf.Operation objects, which represent units of computation; and tf.Tensor objects, which represent the units of data that flow between operations.\n",
    "\n",
    "\n",
    "\n",
    "\n",
    "The way you create a graph in TensorFlow is to use tf.function, either as a direct call or as a decorator."
   ]
  },
  {
   "cell_type": "code",
   "execution_count": 28,
   "metadata": {
    "colab": {
     "base_uri": "https://localhost:8080/",
     "height": 275
    },
    "colab_type": "code",
    "executionInfo": {
     "elapsed": 1019,
     "status": "ok",
     "timestamp": 1599595340705,
     "user": {
      "displayName": "Harika Samala",
      "photoUrl": "https://lh3.googleusercontent.com/a-/AOh14Gj1jICdaGVutFZSBFl6jI1NWgFsvHfUK3H1rvb-xQ=s64",
      "userId": "09750795426681138252"
     },
     "user_tz": -330
    },
    "id": "44PH1-SXTcop",
    "outputId": "8f336281-6995-4ed6-895f-0644fd1d3bdc"
   },
   "outputs": [
    {
     "name": "stdout",
     "output_type": "stream",
     "text": [
      "def tf__function_to_get_faster(x, y, b):\n",
      "    with ag__.FunctionScope('function_to_get_faster', 'fscope', ag__.ConversionOptions(recursive=True, user_requested=True, optional_features=(), internal_convert_user_code=True)) as fscope:\n",
      "        do_return = False\n",
      "        retval_ = ag__.UndefinedReturnValue()\n",
      "        x = ag__.converted_call(ag__.ld(tf).matmul, (ag__.ld(x), ag__.ld(y)), None, fscope)\n",
      "        x = (ag__.ld(x) + ag__.ld(b))\n",
      "        try:\n",
      "            do_return = True\n",
      "            retval_ = ag__.ld(x)\n",
      "        except:\n",
      "            do_return = False\n",
      "            raise\n",
      "        return fscope.ret(retval_, do_return)\n",
      "\n"
     ]
    }
   ],
   "source": [
    "# Don't read the output too carefully.\n",
    "print(tf.autograph.to_code(function_to_get_faster))"
   ]
  },
  {
   "cell_type": "markdown",
   "metadata": {
    "colab_type": "text",
    "id": "OQagYhqwYrjk"
   },
   "source": [
    "**Feed Forward**"
   ]
  },
  {
   "cell_type": "code",
   "execution_count": 29,
   "metadata": {
    "colab": {
     "base_uri": "https://localhost:8080/",
     "height": 68
    },
    "colab_type": "code",
    "executionInfo": {
     "elapsed": 1039,
     "status": "ok",
     "timestamp": 1600142677263,
     "user": {
      "displayName": "Harika Samala",
      "photoUrl": "https://lh3.googleusercontent.com/a-/AOh14Gj1jICdaGVutFZSBFl6jI1NWgFsvHfUK3H1rvb-xQ=s64",
      "userId": "09750795426681138252"
     },
     "user_tz": -330
    },
    "id": "0iMjRIh1YwfN",
    "outputId": "e3d9169d-611c-4c9c-a3e5-9f0bf6c7b04e"
   },
   "outputs": [
    {
     "name": "stdout",
     "output_type": "stream",
     "text": [
      "tf.Tensor(\n",
      "[[1. 0.]\n",
      " [1. 0.]], shape=(2, 2), dtype=float32)\n"
     ]
    }
   ],
   "source": [
    "W = tf.Variable(tf.ones(shape=(2,2)), name=\"W\")\n",
    "b = tf.Variable(tf.zeros(shape=(2)), name=\"b\")\n",
    "\n",
    "@tf.function\n",
    "def forward(x):\n",
    "  return W * x + b\n",
    "\n",
    "out_a = forward([1,0])\n",
    "print(out_a)"
   ]
  },
  {
   "cell_type": "code",
   "execution_count": 30,
   "metadata": {
    "colab": {
     "base_uri": "https://localhost:8080/",
     "height": 68
    },
    "colab_type": "code",
    "executionInfo": {
     "elapsed": 1126,
     "status": "ok",
     "timestamp": 1600142679425,
     "user": {
      "displayName": "Harika Samala",
      "photoUrl": "https://lh3.googleusercontent.com/a-/AOh14Gj1jICdaGVutFZSBFl6jI1NWgFsvHfUK3H1rvb-xQ=s64",
      "userId": "09750795426681138252"
     },
     "user_tz": -330
    },
    "id": "Cy44bPgRYxVY",
    "outputId": "34688dd8-f3c1-495c-f92a-c2b6763c588a"
   },
   "outputs": [
    {
     "data": {
      "text/plain": [
       "<tf.Variable 'W:0' shape=(2, 2) dtype=float32, numpy=\n",
       "array([[1., 1.],\n",
       "       [1., 1.]], dtype=float32)>"
      ]
     },
     "execution_count": 30,
     "metadata": {},
     "output_type": "execute_result"
    }
   ],
   "source": [
    "W"
   ]
  },
  {
   "cell_type": "code",
   "execution_count": 31,
   "metadata": {
    "colab": {
     "base_uri": "https://localhost:8080/",
     "height": 34
    },
    "colab_type": "code",
    "executionInfo": {
     "elapsed": 700,
     "status": "ok",
     "timestamp": 1600142679976,
     "user": {
      "displayName": "Harika Samala",
      "photoUrl": "https://lh3.googleusercontent.com/a-/AOh14Gj1jICdaGVutFZSBFl6jI1NWgFsvHfUK3H1rvb-xQ=s64",
      "userId": "09750795426681138252"
     },
     "user_tz": -330
    },
    "id": "K--82UfhYyUv",
    "outputId": "0155701c-54fa-4c9c-9db7-6f14b4f16e98"
   },
   "outputs": [
    {
     "data": {
      "text/plain": [
       "<tf.Variable 'b:0' shape=(2,) dtype=float32, numpy=array([0., 0.], dtype=float32)>"
      ]
     },
     "execution_count": 31,
     "metadata": {},
     "output_type": "execute_result"
    }
   ],
   "source": [
    "b"
   ]
  },
  {
   "cell_type": "code",
   "execution_count": 32,
   "metadata": {
    "colab": {
     "base_uri": "https://localhost:8080/",
     "height": 68
    },
    "colab_type": "code",
    "executionInfo": {
     "elapsed": 1264,
     "status": "ok",
     "timestamp": 1600142682188,
     "user": {
      "displayName": "Harika Samala",
      "photoUrl": "https://lh3.googleusercontent.com/a-/AOh14Gj1jICdaGVutFZSBFl6jI1NWgFsvHfUK3H1rvb-xQ=s64",
      "userId": "09750795426681138252"
     },
     "user_tz": -330
    },
    "id": "lKrxVT_pYzR2",
    "outputId": "6a6b661e-c8b1-4f74-b9c7-c42c8e5e337a"
   },
   "outputs": [
    {
     "data": {
      "text/plain": [
       "<tf.Tensor: shape=(2, 2), dtype=float32, numpy=\n",
       "array([[1., 0.],\n",
       "       [1., 0.]], dtype=float32)>"
      ]
     },
     "execution_count": 32,
     "metadata": {},
     "output_type": "execute_result"
    }
   ],
   "source": [
    "out_a"
   ]
  },
  {
   "cell_type": "code",
   "execution_count": null,
   "metadata": {
    "colab": {},
    "colab_type": "code",
    "id": "sSUlueV1Y0Up"
   },
   "outputs": [],
   "source": []
  },
  {
   "cell_type": "code",
   "execution_count": null,
   "metadata": {
    "colab": {},
    "colab_type": "code",
    "id": "RaQvi-irFg7c"
   },
   "outputs": [],
   "source": []
  },
  {
   "cell_type": "code",
   "execution_count": null,
   "metadata": {
    "colab": {},
    "colab_type": "code",
    "id": "ZIF1_WCaPocO"
   },
   "outputs": [],
   "source": []
  },
  {
   "cell_type": "code",
   "execution_count": null,
   "metadata": {
    "colab": {},
    "colab_type": "code",
    "id": "zedNspycTPKg"
   },
   "outputs": [],
   "source": []
  },
  {
   "cell_type": "code",
   "execution_count": null,
   "metadata": {
    "colab": {},
    "colab_type": "code",
    "id": "e6g0_JrSTTdw"
   },
   "outputs": [],
   "source": []
  },
  {
   "cell_type": "code",
   "execution_count": null,
   "metadata": {
    "colab": {},
    "colab_type": "code",
    "id": "z26WIW87TgKT"
   },
   "outputs": [],
   "source": []
  },
  {
   "cell_type": "code",
   "execution_count": null,
   "metadata": {
    "colab": {},
    "colab_type": "code",
    "id": "sg-9uTlcUhCq"
   },
   "outputs": [],
   "source": []
  }
 ],
 "metadata": {
  "colab": {
   "authorship_tag": "ABX9TyMPPgsRYSebwJIBkxkXdz1o",
   "mount_file_id": "1WkQgF1haLSpFDuwSfyiXD5IVLmReSrRn",
   "name": "Tensorflow_Introduction.ipynb",
   "provenance": [],
   "toc_visible": true
  },
  "hide_input": false,
  "kernelspec": {
   "display_name": "Python 3",
   "language": "python",
   "name": "python3"
  },
  "language_info": {
   "codemirror_mode": {
    "name": "ipython",
    "version": 3
   },
   "file_extension": ".py",
   "mimetype": "text/x-python",
   "name": "python",
   "nbconvert_exporter": "python",
   "pygments_lexer": "ipython3",
   "version": "3.7.6"
  }
 },
 "nbformat": 4,
 "nbformat_minor": 1
}
